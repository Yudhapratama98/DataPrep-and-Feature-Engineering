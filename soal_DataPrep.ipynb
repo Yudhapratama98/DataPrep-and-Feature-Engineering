{
  "nbformat": 4,
  "nbformat_minor": 0,
  "metadata": {
    "colab": {
      "provenance": [],
      "toc_visible": true
    },
    "kernelspec": {
      "name": "python3",
      "display_name": "Python 3"
    },
    "language_info": {
      "name": "python"
    }
  },
  "cells": [
    {
      "cell_type": "markdown",
      "source": [
        "# **1. Latihan Data Preparation** <br>\n",
        "Pada latihan kali ini, kita akan menggunakan beberapa metode yang telah kita pelajari:\n",
        "\n",
        "- Imputing missing value\n",
        "- Encoding\n",
        "- Scaling\n",
        "- Regularization\n",
        "<br><br>\n",
        "\n",
        "### **Gunakan melb_data.csv (Melbourne House Data) dengan:**\n",
        "- Features: 'Suburb', 'Rooms', 'Type', 'Method', 'Distance', 'Bedroom2', 'Bathroom', 'Car', 'Landsize', 'BuildingArea', 'YearBuilt', 'CouncilArea', 'Regionname'\n",
        "- Target: 'Price'\n",
        "\n",
        "### **Yang dilakukan pada preprocessing dan modeling:**\n",
        "- Lakukan EDA secara sederhana untuk eksplorasi dataset.\n",
        "- Splitting dataset dengan proporsi 80:20 dan random_state = 2020\n",
        "- Gunakan ColumnTransformer untuk imputasi missing value dan encoding.\n",
        "    - Ada 4 features yang mengandung missing value. Isi missing value tersebut dengan imputer yang menurut kamu paling sesuai dengan karakter masing-masing feature.\n",
        "    - Ada 5 features categorical. Lakukan encoding pada features tersebut sesuai dengan karakter masing-masing feature.\n",
        "- Lakukan Scaling pada numerical features. Pilih scaler yang menurut kamu paling sesuai berdasarkan karakteristik datanya.\n",
        "- Lakukan prediksi dengan metode Lasso pada data preprocessed.\n",
        "\n"
      ],
      "metadata": {
        "id": "VWjKNjw5NALP"
      }
    },
    {
      "cell_type": "markdown",
      "source": [
        "# **2. Latihan Feature Engineering** <br>\n",
        "### **Boston house price prediction**\n",
        "\n",
        "- Gunakan seluruh features yang ada sebagai input model. Target: 'MEDV'\n",
        "- Imputasi missing value jika ada.\n",
        "- Bagaimana korelasi tiap variable terhadap target?\n",
        "<br><br>\n",
        "- Lakukan splitting dengan proporsi 70:30 dan random_state = 4.\n",
        "- Gunakan model Linear Regression sebagai model benchmark. Lakukan pemodelan dengan menggunakan sklearn.\n",
        "- Plot harga asli dan prediksi. Interpretasikan hasilnya.\n",
        "- Bagaimana distribusi residuals-nya? Apakah asumsi normalitas terpenuhi?\n",
        "<br><br>\n",
        "- Lakukan pemodelan dengan menggunakan Polynomial order 2.\n",
        "- Bandingkan hasilnya dengan model benchmark jika ditinjau dari nilai RMSE-nya."
      ],
      "metadata": {
        "id": "1jgcjus1NdXY"
      }
    },
    {
      "cell_type": "code",
      "source": [
        "#  Variables in order:\n",
        "#  CRIM     per capita crime rate by town\n",
        "#  ZN       proportion of residential land zoned for lots over 25,000 sq.ft.\n",
        "#  INDUS    proportion of non-retail business acres per town\n",
        "#  CHAS     Charles River dummy variable (= 1 if tract bounds river; 0 otherwise)\n",
        "#  NOX      nitric oxides concentration (parts per 10 million)\n",
        "#  RM       average number of rooms per dwelling\n",
        "#  AGE      proportion of owner-occupied units built prior to 1940\n",
        "#  DIS      weighted distances to five Boston employment centres\n",
        "#  RAD      index of accessibility to radial highways\n",
        "#  TAX      full-value property-tax rate per $10,000\n",
        "#  PTRATIO  pupil-teacher ratio by town\n",
        "#  B        1000(Bk - 0.63)^2 where Bk is the proportion of blacks by town\n",
        "#  LSTAT    % lower status of the population\n",
        "#  MEDV     Median value of owner-occupied homes in $1000's"
      ],
      "metadata": {
        "id": "XKyzAoN535kC"
      },
      "execution_count": null,
      "outputs": []
    },
    {
      "cell_type": "code",
      "source": [
        "data_url = \"http://lib.stat.cmu.edu/datasets/boston\"\n",
        "raw_df = pd.read_csv(data_url, sep=\"\\s+\", skiprows=22, header=None)\n",
        "data = np.hstack([raw_df.values[::2, :], raw_df.values[1::2, :2]]) # row , column"
      ],
      "metadata": {
        "id": "j6-U5ZTDPAc_"
      },
      "execution_count": null,
      "outputs": []
    },
    {
      "cell_type": "code",
      "source": [
        "df = pd.DataFrame(data, columns=['CRIM','ZN','INDUS','CHAS','NOX','RM','AGE','DIS','RAD','TAX','PTRATIO','B','LSTAT','MEDV'])\n",
        "df"
      ],
      "metadata": {
        "id": "pJeflsE83ncK"
      },
      "execution_count": null,
      "outputs": []
    }
  ]
}