{
  "cells": [
    {
      "cell_type": "markdown",
      "metadata": {
        "id": "dIb7Zm_Xhyml"
      },
      "source": [
        "# **Latihan Data Preparation**"
      ]
    },
    {
      "cell_type": "markdown",
      "metadata": {
        "id": "mXdDBjfchymn"
      },
      "source": [
        "Pada latihan kali ini, kita akan menggunakan beberapa metode yang telah kita pelajari:\n",
        "\n",
        "- Imputing missing value\n",
        "- Encoding\n",
        "- Scaling\n",
        "- Regularization\n",
        "<br><br>\n",
        "\n",
        "### **Gunakan melb_data.csv (Melbourne House Data) dengan:**\n",
        "- Features: 'Suburb', 'Rooms', 'Type', 'Method', 'Distance', 'Bedroom2', 'Bathroom', 'Car', 'Landsize', 'BuildingArea', 'YearBuilt', 'CouncilArea', 'Regionname'\n",
        "- Target: 'Price'\n",
        "\n",
        "### **Yang dilakukan pada preprocessing dan modeling:**\n",
        "- Lakukan EDA secara sederhana untuk eksplorasi dataset.\n",
        "- Splitting dataset dengan proporsi 80:20 dan random_state = 2020\n",
        "- Gunakan ColumnTransformer untuk imputasi missing value dan encoding.\n",
        "    - Ada 4 features yang mengandung missing value. Isi missing value tersebut dengan imputer yang menurut kamu paling sesuai dengan karakter masing-masing feature.\n",
        "    - Ada 5 features categorical. Lakukan encoding pada features tersebut sesuai dengan karakter masing-masing feature.\n",
        "- Lakukan Scaling pada numerical features. Pilih scaler yang menurut kamu paling sesuai berdasarkan karakteristik datanya.\n",
        "- Lakukan prediksi dengan metode Lasso pada data preprocessed.\n"
      ]
    },
    {
      "cell_type": "markdown",
      "metadata": {
        "id": "CT0wW3wbhymn"
      },
      "source": [
        "## **Import Libraries**"
      ]
    },
    {
      "cell_type": "code",
      "execution_count": null,
      "metadata": {
        "id": "cnp0zN6bhymo"
      },
      "outputs": [],
      "source": [
        "import pandas as pd\n",
        "import numpy as np\n",
        "import matplotlib.pyplot as plt\n",
        "import seaborn as sns\n",
        "\n",
        "import warnings\n",
        "warnings.filterwarnings('ignore')"
      ]
    },
    {
      "cell_type": "markdown",
      "metadata": {
        "id": "Fhele7ZEhymp"
      },
      "source": [
        "## **Load & Explore Dataset**"
      ]
    },
    {
      "cell_type": "code",
      "execution_count": null,
      "metadata": {
        "id": "2HrGDS1Ghymp"
      },
      "outputs": [],
      "source": [
        "pd.set_option('display.max_columns', 100)"
      ]
    },
    {
      "cell_type": "code",
      "execution_count": null,
      "metadata": {
        "id": "FlEU98fIhymp",
        "outputId": "842a98fd-2bd4-4d70-dd77-697fc4a60d5f"
      },
      "outputs": [
        {
          "data": {
            "text/html": [
              "<div>\n",
              "<style scoped>\n",
              "    .dataframe tbody tr th:only-of-type {\n",
              "        vertical-align: middle;\n",
              "    }\n",
              "\n",
              "    .dataframe tbody tr th {\n",
              "        vertical-align: top;\n",
              "    }\n",
              "\n",
              "    .dataframe thead th {\n",
              "        text-align: right;\n",
              "    }\n",
              "</style>\n",
              "<table border=\"1\" class=\"dataframe\">\n",
              "  <thead>\n",
              "    <tr style=\"text-align: right;\">\n",
              "      <th></th>\n",
              "      <th>Suburb</th>\n",
              "      <th>Address</th>\n",
              "      <th>Rooms</th>\n",
              "      <th>Type</th>\n",
              "      <th>Price</th>\n",
              "      <th>Method</th>\n",
              "      <th>SellerG</th>\n",
              "      <th>Date</th>\n",
              "      <th>Distance</th>\n",
              "      <th>Postcode</th>\n",
              "      <th>Bedroom2</th>\n",
              "      <th>Bathroom</th>\n",
              "      <th>Car</th>\n",
              "      <th>Landsize</th>\n",
              "      <th>BuildingArea</th>\n",
              "      <th>YearBuilt</th>\n",
              "      <th>CouncilArea</th>\n",
              "      <th>Lattitude</th>\n",
              "      <th>Longtitude</th>\n",
              "      <th>Regionname</th>\n",
              "      <th>Propertycount</th>\n",
              "    </tr>\n",
              "  </thead>\n",
              "  <tbody>\n",
              "    <tr>\n",
              "      <th>0</th>\n",
              "      <td>Abbotsford</td>\n",
              "      <td>85 Turner St</td>\n",
              "      <td>2</td>\n",
              "      <td>h</td>\n",
              "      <td>1480000.0</td>\n",
              "      <td>S</td>\n",
              "      <td>Biggin</td>\n",
              "      <td>3/12/2016</td>\n",
              "      <td>2.5</td>\n",
              "      <td>3067.0</td>\n",
              "      <td>2.0</td>\n",
              "      <td>1.0</td>\n",
              "      <td>1.0</td>\n",
              "      <td>202.0</td>\n",
              "      <td>NaN</td>\n",
              "      <td>NaN</td>\n",
              "      <td>Yarra</td>\n",
              "      <td>-37.7996</td>\n",
              "      <td>144.9984</td>\n",
              "      <td>Northern Metropolitan</td>\n",
              "      <td>4019.0</td>\n",
              "    </tr>\n",
              "    <tr>\n",
              "      <th>1</th>\n",
              "      <td>Abbotsford</td>\n",
              "      <td>25 Bloomburg St</td>\n",
              "      <td>2</td>\n",
              "      <td>h</td>\n",
              "      <td>1035000.0</td>\n",
              "      <td>S</td>\n",
              "      <td>Biggin</td>\n",
              "      <td>4/02/2016</td>\n",
              "      <td>2.5</td>\n",
              "      <td>3067.0</td>\n",
              "      <td>2.0</td>\n",
              "      <td>1.0</td>\n",
              "      <td>0.0</td>\n",
              "      <td>156.0</td>\n",
              "      <td>79.0</td>\n",
              "      <td>1900.0</td>\n",
              "      <td>Yarra</td>\n",
              "      <td>-37.8079</td>\n",
              "      <td>144.9934</td>\n",
              "      <td>Northern Metropolitan</td>\n",
              "      <td>4019.0</td>\n",
              "    </tr>\n",
              "    <tr>\n",
              "      <th>2</th>\n",
              "      <td>Abbotsford</td>\n",
              "      <td>5 Charles St</td>\n",
              "      <td>3</td>\n",
              "      <td>h</td>\n",
              "      <td>1465000.0</td>\n",
              "      <td>SP</td>\n",
              "      <td>Biggin</td>\n",
              "      <td>4/03/2017</td>\n",
              "      <td>2.5</td>\n",
              "      <td>3067.0</td>\n",
              "      <td>3.0</td>\n",
              "      <td>2.0</td>\n",
              "      <td>0.0</td>\n",
              "      <td>134.0</td>\n",
              "      <td>150.0</td>\n",
              "      <td>1900.0</td>\n",
              "      <td>Yarra</td>\n",
              "      <td>-37.8093</td>\n",
              "      <td>144.9944</td>\n",
              "      <td>Northern Metropolitan</td>\n",
              "      <td>4019.0</td>\n",
              "    </tr>\n",
              "    <tr>\n",
              "      <th>3</th>\n",
              "      <td>Abbotsford</td>\n",
              "      <td>40 Federation La</td>\n",
              "      <td>3</td>\n",
              "      <td>h</td>\n",
              "      <td>850000.0</td>\n",
              "      <td>PI</td>\n",
              "      <td>Biggin</td>\n",
              "      <td>4/03/2017</td>\n",
              "      <td>2.5</td>\n",
              "      <td>3067.0</td>\n",
              "      <td>3.0</td>\n",
              "      <td>2.0</td>\n",
              "      <td>1.0</td>\n",
              "      <td>94.0</td>\n",
              "      <td>NaN</td>\n",
              "      <td>NaN</td>\n",
              "      <td>Yarra</td>\n",
              "      <td>-37.7969</td>\n",
              "      <td>144.9969</td>\n",
              "      <td>Northern Metropolitan</td>\n",
              "      <td>4019.0</td>\n",
              "    </tr>\n",
              "    <tr>\n",
              "      <th>4</th>\n",
              "      <td>Abbotsford</td>\n",
              "      <td>55a Park St</td>\n",
              "      <td>4</td>\n",
              "      <td>h</td>\n",
              "      <td>1600000.0</td>\n",
              "      <td>VB</td>\n",
              "      <td>Nelson</td>\n",
              "      <td>4/06/2016</td>\n",
              "      <td>2.5</td>\n",
              "      <td>3067.0</td>\n",
              "      <td>3.0</td>\n",
              "      <td>1.0</td>\n",
              "      <td>2.0</td>\n",
              "      <td>120.0</td>\n",
              "      <td>142.0</td>\n",
              "      <td>2014.0</td>\n",
              "      <td>Yarra</td>\n",
              "      <td>-37.8072</td>\n",
              "      <td>144.9941</td>\n",
              "      <td>Northern Metropolitan</td>\n",
              "      <td>4019.0</td>\n",
              "    </tr>\n",
              "  </tbody>\n",
              "</table>\n",
              "</div>"
            ],
            "text/plain": [
              "       Suburb           Address  Rooms Type      Price Method SellerG  \\\n",
              "0  Abbotsford      85 Turner St      2    h  1480000.0      S  Biggin   \n",
              "1  Abbotsford   25 Bloomburg St      2    h  1035000.0      S  Biggin   \n",
              "2  Abbotsford      5 Charles St      3    h  1465000.0     SP  Biggin   \n",
              "3  Abbotsford  40 Federation La      3    h   850000.0     PI  Biggin   \n",
              "4  Abbotsford       55a Park St      4    h  1600000.0     VB  Nelson   \n",
              "\n",
              "        Date  Distance  Postcode  Bedroom2  Bathroom  Car  Landsize  \\\n",
              "0  3/12/2016       2.5    3067.0       2.0       1.0  1.0     202.0   \n",
              "1  4/02/2016       2.5    3067.0       2.0       1.0  0.0     156.0   \n",
              "2  4/03/2017       2.5    3067.0       3.0       2.0  0.0     134.0   \n",
              "3  4/03/2017       2.5    3067.0       3.0       2.0  1.0      94.0   \n",
              "4  4/06/2016       2.5    3067.0       3.0       1.0  2.0     120.0   \n",
              "\n",
              "   BuildingArea  YearBuilt CouncilArea  Lattitude  Longtitude  \\\n",
              "0           NaN        NaN       Yarra   -37.7996    144.9984   \n",
              "1          79.0     1900.0       Yarra   -37.8079    144.9934   \n",
              "2         150.0     1900.0       Yarra   -37.8093    144.9944   \n",
              "3           NaN        NaN       Yarra   -37.7969    144.9969   \n",
              "4         142.0     2014.0       Yarra   -37.8072    144.9941   \n",
              "\n",
              "              Regionname  Propertycount  \n",
              "0  Northern Metropolitan         4019.0  \n",
              "1  Northern Metropolitan         4019.0  \n",
              "2  Northern Metropolitan         4019.0  \n",
              "3  Northern Metropolitan         4019.0  \n",
              "4  Northern Metropolitan         4019.0  "
            ]
          },
          "execution_count": 497,
          "metadata": {},
          "output_type": "execute_result"
        }
      ],
      "source": [
        "df = pd.read_csv('melb_data.csv')\n",
        "df.head()"
      ]
    },
    {
      "cell_type": "code",
      "execution_count": null,
      "metadata": {
        "id": "BtiQNvrGhymq"
      },
      "outputs": [],
      "source": [
        "df = df[['Suburb','Rooms','Type','Method','Distance','Bedroom2','Bathroom','Car','Landsize',\n",
        "            'BuildingArea','YearBuilt','CouncilArea','Regionname','Price']]"
      ]
    },
    {
      "cell_type": "code",
      "execution_count": null,
      "metadata": {
        "id": "shttjSxKhymq",
        "outputId": "651b2937-1169-4fd0-87d1-75ff5196424a"
      },
      "outputs": [
        {
          "data": {
            "text/plain": [
              "(13580, 14)"
            ]
          },
          "execution_count": 542,
          "metadata": {},
          "output_type": "execute_result"
        }
      ],
      "source": [
        "df.shape"
      ]
    },
    {
      "cell_type": "code",
      "execution_count": null,
      "metadata": {
        "id": "Gd_NJk7Dhymq",
        "outputId": "90a4a175-d58d-4eee-e598-f873a8a0bbe8"
      },
      "outputs": [
        {
          "data": {
            "text/html": [
              "<div>\n",
              "<style scoped>\n",
              "    .dataframe tbody tr th:only-of-type {\n",
              "        vertical-align: middle;\n",
              "    }\n",
              "\n",
              "    .dataframe tbody tr th {\n",
              "        vertical-align: top;\n",
              "    }\n",
              "\n",
              "    .dataframe thead th {\n",
              "        text-align: right;\n",
              "    }\n",
              "</style>\n",
              "<table border=\"1\" class=\"dataframe\">\n",
              "  <thead>\n",
              "    <tr style=\"text-align: right;\">\n",
              "      <th></th>\n",
              "      <th>Rooms</th>\n",
              "      <th>Distance</th>\n",
              "      <th>Bedroom2</th>\n",
              "      <th>Bathroom</th>\n",
              "      <th>Car</th>\n",
              "      <th>Landsize</th>\n",
              "      <th>BuildingArea</th>\n",
              "      <th>YearBuilt</th>\n",
              "      <th>Price</th>\n",
              "    </tr>\n",
              "  </thead>\n",
              "  <tbody>\n",
              "    <tr>\n",
              "      <th>count</th>\n",
              "      <td>13580.000000</td>\n",
              "      <td>13580.000000</td>\n",
              "      <td>13580.000000</td>\n",
              "      <td>13580.000000</td>\n",
              "      <td>13518.000000</td>\n",
              "      <td>13580.000000</td>\n",
              "      <td>7130.000000</td>\n",
              "      <td>8205.000000</td>\n",
              "      <td>1.358000e+04</td>\n",
              "    </tr>\n",
              "    <tr>\n",
              "      <th>mean</th>\n",
              "      <td>2.937997</td>\n",
              "      <td>10.137776</td>\n",
              "      <td>2.914728</td>\n",
              "      <td>1.534242</td>\n",
              "      <td>1.610075</td>\n",
              "      <td>558.416127</td>\n",
              "      <td>151.967650</td>\n",
              "      <td>1964.684217</td>\n",
              "      <td>1.075684e+06</td>\n",
              "    </tr>\n",
              "    <tr>\n",
              "      <th>std</th>\n",
              "      <td>0.955748</td>\n",
              "      <td>5.868725</td>\n",
              "      <td>0.965921</td>\n",
              "      <td>0.691712</td>\n",
              "      <td>0.962634</td>\n",
              "      <td>3990.669241</td>\n",
              "      <td>541.014538</td>\n",
              "      <td>37.273762</td>\n",
              "      <td>6.393107e+05</td>\n",
              "    </tr>\n",
              "    <tr>\n",
              "      <th>min</th>\n",
              "      <td>1.000000</td>\n",
              "      <td>0.000000</td>\n",
              "      <td>0.000000</td>\n",
              "      <td>0.000000</td>\n",
              "      <td>0.000000</td>\n",
              "      <td>0.000000</td>\n",
              "      <td>0.000000</td>\n",
              "      <td>1196.000000</td>\n",
              "      <td>8.500000e+04</td>\n",
              "    </tr>\n",
              "    <tr>\n",
              "      <th>25%</th>\n",
              "      <td>2.000000</td>\n",
              "      <td>6.100000</td>\n",
              "      <td>2.000000</td>\n",
              "      <td>1.000000</td>\n",
              "      <td>1.000000</td>\n",
              "      <td>177.000000</td>\n",
              "      <td>93.000000</td>\n",
              "      <td>1940.000000</td>\n",
              "      <td>6.500000e+05</td>\n",
              "    </tr>\n",
              "    <tr>\n",
              "      <th>50%</th>\n",
              "      <td>3.000000</td>\n",
              "      <td>9.200000</td>\n",
              "      <td>3.000000</td>\n",
              "      <td>1.000000</td>\n",
              "      <td>2.000000</td>\n",
              "      <td>440.000000</td>\n",
              "      <td>126.000000</td>\n",
              "      <td>1970.000000</td>\n",
              "      <td>9.030000e+05</td>\n",
              "    </tr>\n",
              "    <tr>\n",
              "      <th>75%</th>\n",
              "      <td>3.000000</td>\n",
              "      <td>13.000000</td>\n",
              "      <td>3.000000</td>\n",
              "      <td>2.000000</td>\n",
              "      <td>2.000000</td>\n",
              "      <td>651.000000</td>\n",
              "      <td>174.000000</td>\n",
              "      <td>1999.000000</td>\n",
              "      <td>1.330000e+06</td>\n",
              "    </tr>\n",
              "    <tr>\n",
              "      <th>max</th>\n",
              "      <td>10.000000</td>\n",
              "      <td>48.100000</td>\n",
              "      <td>20.000000</td>\n",
              "      <td>8.000000</td>\n",
              "      <td>10.000000</td>\n",
              "      <td>433014.000000</td>\n",
              "      <td>44515.000000</td>\n",
              "      <td>2018.000000</td>\n",
              "      <td>9.000000e+06</td>\n",
              "    </tr>\n",
              "  </tbody>\n",
              "</table>\n",
              "</div>"
            ],
            "text/plain": [
              "              Rooms      Distance      Bedroom2      Bathroom           Car  \\\n",
              "count  13580.000000  13580.000000  13580.000000  13580.000000  13518.000000   \n",
              "mean       2.937997     10.137776      2.914728      1.534242      1.610075   \n",
              "std        0.955748      5.868725      0.965921      0.691712      0.962634   \n",
              "min        1.000000      0.000000      0.000000      0.000000      0.000000   \n",
              "25%        2.000000      6.100000      2.000000      1.000000      1.000000   \n",
              "50%        3.000000      9.200000      3.000000      1.000000      2.000000   \n",
              "75%        3.000000     13.000000      3.000000      2.000000      2.000000   \n",
              "max       10.000000     48.100000     20.000000      8.000000     10.000000   \n",
              "\n",
              "            Landsize  BuildingArea    YearBuilt         Price  \n",
              "count   13580.000000   7130.000000  8205.000000  1.358000e+04  \n",
              "mean      558.416127    151.967650  1964.684217  1.075684e+06  \n",
              "std      3990.669241    541.014538    37.273762  6.393107e+05  \n",
              "min         0.000000      0.000000  1196.000000  8.500000e+04  \n",
              "25%       177.000000     93.000000  1940.000000  6.500000e+05  \n",
              "50%       440.000000    126.000000  1970.000000  9.030000e+05  \n",
              "75%       651.000000    174.000000  1999.000000  1.330000e+06  \n",
              "max    433014.000000  44515.000000  2018.000000  9.000000e+06  "
            ]
          },
          "execution_count": 499,
          "metadata": {},
          "output_type": "execute_result"
        }
      ],
      "source": [
        "df.describe()"
      ]
    },
    {
      "cell_type": "code",
      "execution_count": null,
      "metadata": {
        "id": "fim72yv4hymr",
        "outputId": "145fe12e-635b-4e0c-e5dd-aa1c64bcea25"
      },
      "outputs": [
        {
          "data": {
            "text/html": [
              "<div>\n",
              "<style scoped>\n",
              "    .dataframe tbody tr th:only-of-type {\n",
              "        vertical-align: middle;\n",
              "    }\n",
              "\n",
              "    .dataframe tbody tr th {\n",
              "        vertical-align: top;\n",
              "    }\n",
              "\n",
              "    .dataframe thead th {\n",
              "        text-align: right;\n",
              "    }\n",
              "</style>\n",
              "<table border=\"1\" class=\"dataframe\">\n",
              "  <thead>\n",
              "    <tr style=\"text-align: right;\">\n",
              "      <th></th>\n",
              "      <th>Suburb</th>\n",
              "      <th>Type</th>\n",
              "      <th>Method</th>\n",
              "      <th>CouncilArea</th>\n",
              "      <th>Regionname</th>\n",
              "    </tr>\n",
              "  </thead>\n",
              "  <tbody>\n",
              "    <tr>\n",
              "      <th>count</th>\n",
              "      <td>13580</td>\n",
              "      <td>13580</td>\n",
              "      <td>13580</td>\n",
              "      <td>12211</td>\n",
              "      <td>13580</td>\n",
              "    </tr>\n",
              "    <tr>\n",
              "      <th>unique</th>\n",
              "      <td>314</td>\n",
              "      <td>3</td>\n",
              "      <td>5</td>\n",
              "      <td>33</td>\n",
              "      <td>8</td>\n",
              "    </tr>\n",
              "    <tr>\n",
              "      <th>top</th>\n",
              "      <td>Reservoir</td>\n",
              "      <td>h</td>\n",
              "      <td>S</td>\n",
              "      <td>Moreland</td>\n",
              "      <td>Southern Metropolitan</td>\n",
              "    </tr>\n",
              "    <tr>\n",
              "      <th>freq</th>\n",
              "      <td>359</td>\n",
              "      <td>9449</td>\n",
              "      <td>9022</td>\n",
              "      <td>1163</td>\n",
              "      <td>4695</td>\n",
              "    </tr>\n",
              "  </tbody>\n",
              "</table>\n",
              "</div>"
            ],
            "text/plain": [
              "           Suburb   Type Method CouncilArea             Regionname\n",
              "count       13580  13580  13580       12211                  13580\n",
              "unique        314      3      5          33                      8\n",
              "top     Reservoir      h      S    Moreland  Southern Metropolitan\n",
              "freq          359   9449   9022        1163                   4695"
            ]
          },
          "execution_count": 500,
          "metadata": {},
          "output_type": "execute_result"
        }
      ],
      "source": [
        "df.describe(include='object')"
      ]
    },
    {
      "cell_type": "code",
      "execution_count": null,
      "metadata": {
        "id": "B43ApXEnhymr",
        "outputId": "75279e3b-16ef-4dc0-931b-66b7b52c0c47"
      },
      "outputs": [
        {
          "name": "stdout",
          "output_type": "stream",
          "text": [
            "<class 'pandas.core.frame.DataFrame'>\n",
            "RangeIndex: 13580 entries, 0 to 13579\n",
            "Data columns (total 14 columns):\n",
            " #   Column        Non-Null Count  Dtype  \n",
            "---  ------        --------------  -----  \n",
            " 0   Suburb        13580 non-null  object \n",
            " 1   Rooms         13580 non-null  int64  \n",
            " 2   Type          13580 non-null  object \n",
            " 3   Method        13580 non-null  object \n",
            " 4   Distance      13580 non-null  float64\n",
            " 5   Bedroom2      13580 non-null  float64\n",
            " 6   Bathroom      13580 non-null  float64\n",
            " 7   Car           13518 non-null  float64\n",
            " 8   Landsize      13580 non-null  float64\n",
            " 9   BuildingArea  7130 non-null   float64\n",
            " 10  YearBuilt     8205 non-null   float64\n",
            " 11  CouncilArea   12211 non-null  object \n",
            " 12  Regionname    13580 non-null  object \n",
            " 13  Price         13580 non-null  float64\n",
            "dtypes: float64(8), int64(1), object(5)\n",
            "memory usage: 1.5+ MB\n"
          ]
        }
      ],
      "source": [
        "df.info()"
      ]
    },
    {
      "cell_type": "code",
      "execution_count": null,
      "metadata": {
        "id": "9rpm3wzShymr",
        "outputId": "c9327445-8690-419d-fa92-35ffee2fc7bb"
      },
      "outputs": [
        {
          "data": {
            "text/html": [
              "<div>\n",
              "<style scoped>\n",
              "    .dataframe tbody tr th:only-of-type {\n",
              "        vertical-align: middle;\n",
              "    }\n",
              "\n",
              "    .dataframe tbody tr th {\n",
              "        vertical-align: top;\n",
              "    }\n",
              "\n",
              "    .dataframe thead th {\n",
              "        text-align: right;\n",
              "    }\n",
              "</style>\n",
              "<table border=\"1\" class=\"dataframe\">\n",
              "  <thead>\n",
              "    <tr style=\"text-align: right;\">\n",
              "      <th></th>\n",
              "      <th>Suburb</th>\n",
              "      <th>Type</th>\n",
              "      <th>Method</th>\n",
              "      <th>CouncilArea</th>\n",
              "      <th>Regionname</th>\n",
              "    </tr>\n",
              "  </thead>\n",
              "  <tbody>\n",
              "    <tr>\n",
              "      <th>0</th>\n",
              "      <td>Abbotsford</td>\n",
              "      <td>h</td>\n",
              "      <td>S</td>\n",
              "      <td>Yarra</td>\n",
              "      <td>Northern Metropolitan</td>\n",
              "    </tr>\n",
              "    <tr>\n",
              "      <th>1</th>\n",
              "      <td>Abbotsford</td>\n",
              "      <td>h</td>\n",
              "      <td>S</td>\n",
              "      <td>Yarra</td>\n",
              "      <td>Northern Metropolitan</td>\n",
              "    </tr>\n",
              "    <tr>\n",
              "      <th>2</th>\n",
              "      <td>Abbotsford</td>\n",
              "      <td>h</td>\n",
              "      <td>SP</td>\n",
              "      <td>Yarra</td>\n",
              "      <td>Northern Metropolitan</td>\n",
              "    </tr>\n",
              "    <tr>\n",
              "      <th>3</th>\n",
              "      <td>Abbotsford</td>\n",
              "      <td>h</td>\n",
              "      <td>PI</td>\n",
              "      <td>Yarra</td>\n",
              "      <td>Northern Metropolitan</td>\n",
              "    </tr>\n",
              "    <tr>\n",
              "      <th>4</th>\n",
              "      <td>Abbotsford</td>\n",
              "      <td>h</td>\n",
              "      <td>VB</td>\n",
              "      <td>Yarra</td>\n",
              "      <td>Northern Metropolitan</td>\n",
              "    </tr>\n",
              "  </tbody>\n",
              "</table>\n",
              "</div>"
            ],
            "text/plain": [
              "       Suburb Type Method CouncilArea             Regionname\n",
              "0  Abbotsford    h      S       Yarra  Northern Metropolitan\n",
              "1  Abbotsford    h      S       Yarra  Northern Metropolitan\n",
              "2  Abbotsford    h     SP       Yarra  Northern Metropolitan\n",
              "3  Abbotsford    h     PI       Yarra  Northern Metropolitan\n",
              "4  Abbotsford    h     VB       Yarra  Northern Metropolitan"
            ]
          },
          "execution_count": 502,
          "metadata": {},
          "output_type": "execute_result"
        }
      ],
      "source": [
        "df.select_dtypes('object').head()"
      ]
    },
    {
      "cell_type": "markdown",
      "metadata": {
        "id": "gAIi2qexhymr"
      },
      "source": [
        "### **Simple EDA**"
      ]
    },
    {
      "cell_type": "code",
      "execution_count": null,
      "metadata": {
        "id": "pj5lU_gLhymr",
        "outputId": "6e3b638e-980d-4bb3-bcfa-8b86946da90e"
      },
      "outputs": [
        {
          "data": {
            "text/plain": [
              "['Type', 'Method', 'CouncilArea', 'Regionname']"
            ]
          },
          "execution_count": 503,
          "metadata": {},
          "output_type": "execute_result"
        }
      ],
      "source": [
        "# categorical features\n",
        "cat_features = [feature for feature in df.columns if ((df[feature].dtypes == 'O') & (feature not in ['Suburb']))]\n",
        "cat_features"
      ]
    },
    {
      "cell_type": "code",
      "execution_count": null,
      "metadata": {
        "id": "rM7gP6nShymr",
        "outputId": "7dd15c65-603e-4c84-d1dd-b96bfbdcf8a0"
      },
      "outputs": [
        {
          "data": {
            "image/png": "[encoded data removed]",
            "text/plain": [
              "<Figure size 1080x1080 with 4 Axes>"
            ]
          },
          "metadata": {},
          "output_type": "display_data"
        }
      ],
      "source": [
        "# Harga rumah berdasarkan tiap categorical feature\n",
        "\n",
        "plt.figure(figsize=(15, 15), facecolor='white')\n",
        "sns.set(style='whitegrid', palette='Set3')\n",
        "plotnumber = 1\n",
        "\n",
        "for feature in cat_features:\n",
        "    # subplot (letak grafik)\n",
        "    ax = plt.subplot(2, 2, plotnumber)\n",
        "\n",
        "    # Harga rumah berdasarkan feature\n",
        "    sns.barplot(x = 'Price', y = feature, data = df)\n",
        "\n",
        "    plt.xlabel('Price')\n",
        "    plt.ylabel(feature)\n",
        "    plt.title(feature, fontsize=16)\n",
        "    plt.tight_layout();\n",
        "\n",
        "    plotnumber += 1"
      ]
    },
    {
      "cell_type": "code",
      "execution_count": null,
      "metadata": {
        "id": "RwkZh6m6hymr",
        "outputId": "557c15ac-d44c-4da3-a3cb-ff5a68b27982"
      },
      "outputs": [
        {
          "data": {
            "image/png": "[encoded data removed]",
            "text/plain": [
              "<Figure size 432x288 with 1 Axes>"
            ]
          },
          "metadata": {},
          "output_type": "display_data"
        }
      ],
      "source": [
        "# Distribusi Harga Rumah\n",
        "sns.boxplot(x='Price', data=df);"
      ]
    },
    {
      "cell_type": "code",
      "execution_count": null,
      "metadata": {
        "id": "y3KFaWUuhyms"
      },
      "outputs": [],
      "source": []
    },
    {
      "cell_type": "code",
      "execution_count": null,
      "metadata": {
        "id": "Ax3cf-0-hyms",
        "outputId": "125758a4-9836-4abe-e95a-92eda5d95859"
      },
      "outputs": [
        {
          "data": {
            "text/plain": [
              "['Rooms',\n",
              " 'Distance',\n",
              " 'Bedroom2',\n",
              " 'Bathroom',\n",
              " 'Car',\n",
              " 'Landsize',\n",
              " 'BuildingArea',\n",
              " 'YearBuilt',\n",
              " 'Price']"
            ]
          },
          "execution_count": 506,
          "metadata": {},
          "output_type": "execute_result"
        }
      ],
      "source": [
        "# Numerical Features\n",
        "num_feature = [fea for fea in df.describe().columns]\n",
        "num_feature"
      ]
    },
    {
      "cell_type": "code",
      "execution_count": null,
      "metadata": {
        "id": "traUtqmUhyms",
        "outputId": "c37a04d3-8842-4f21-c88a-3a43045a85a3"
      },
      "outputs": [
        {
          "data": {
            "image/png": "[encoded data removed]",
            "text/plain": [
              "<Figure size 1080x648 with 9 Axes>"
            ]
          },
          "metadata": {},
          "output_type": "display_data"
        }
      ],
      "source": [
        "plt.figure(figsize=(15, 9), facecolor='white')\n",
        "sns.set(style='whitegrid', palette='Set3')\n",
        "plotnumber = 1\n",
        "\n",
        "for feature in num_feature:\n",
        "    ax = plt.subplot(3,3, plotnumber)\n",
        "    sns.boxplot(x=feature, data=df);\n",
        "    plt.title(feature, fontsize=16)\n",
        "    plt.tight_layout()\n",
        "    plotnumber += 1\n"
      ]
    },
    {
      "cell_type": "code",
      "execution_count": null,
      "metadata": {
        "id": "RGpSvdVYhyms",
        "outputId": "2668bd8e-5afd-47c6-cb3b-2a4ccd49dedf"
      },
      "outputs": [
        {
          "data": {
            "text/html": [
              "<div>\n",
              "<style scoped>\n",
              "    .dataframe tbody tr th:only-of-type {\n",
              "        vertical-align: middle;\n",
              "    }\n",
              "\n",
              "    .dataframe tbody tr th {\n",
              "        vertical-align: top;\n",
              "    }\n",
              "\n",
              "    .dataframe thead th {\n",
              "        text-align: right;\n",
              "    }\n",
              "</style>\n",
              "<table border=\"1\" class=\"dataframe\">\n",
              "  <thead>\n",
              "    <tr style=\"text-align: right;\">\n",
              "      <th></th>\n",
              "      <th>Suburb</th>\n",
              "      <th>Rooms</th>\n",
              "      <th>Type</th>\n",
              "      <th>Method</th>\n",
              "      <th>Distance</th>\n",
              "      <th>Bedroom2</th>\n",
              "      <th>Bathroom</th>\n",
              "      <th>Car</th>\n",
              "      <th>Landsize</th>\n",
              "      <th>BuildingArea</th>\n",
              "      <th>YearBuilt</th>\n",
              "      <th>CouncilArea</th>\n",
              "      <th>Regionname</th>\n",
              "      <th>Price</th>\n",
              "    </tr>\n",
              "  </thead>\n",
              "  <tbody>\n",
              "    <tr>\n",
              "      <th>7404</th>\n",
              "      <td>Caulfield East</td>\n",
              "      <td>3</td>\n",
              "      <td>h</td>\n",
              "      <td>PI</td>\n",
              "      <td>9.3</td>\n",
              "      <td>20.0</td>\n",
              "      <td>1.0</td>\n",
              "      <td>2.0</td>\n",
              "      <td>875.0</td>\n",
              "      <td>NaN</td>\n",
              "      <td>NaN</td>\n",
              "      <td>Glen Eira</td>\n",
              "      <td>Southern Metropolitan</td>\n",
              "      <td>1650000.0</td>\n",
              "    </tr>\n",
              "    <tr>\n",
              "      <th>9968</th>\n",
              "      <td>Mount Waverley</td>\n",
              "      <td>3</td>\n",
              "      <td>h</td>\n",
              "      <td>VB</td>\n",
              "      <td>14.2</td>\n",
              "      <td>3.0</td>\n",
              "      <td>1.0</td>\n",
              "      <td>4.0</td>\n",
              "      <td>807.0</td>\n",
              "      <td>117.0</td>\n",
              "      <td>1196.0</td>\n",
              "      <td>Monash</td>\n",
              "      <td>Eastern Metropolitan</td>\n",
              "      <td>1200000.0</td>\n",
              "    </tr>\n",
              "    <tr>\n",
              "      <th>11020</th>\n",
              "      <td>Fitzroy</td>\n",
              "      <td>3</td>\n",
              "      <td>h</td>\n",
              "      <td>VB</td>\n",
              "      <td>2.1</td>\n",
              "      <td>3.0</td>\n",
              "      <td>3.0</td>\n",
              "      <td>1.0</td>\n",
              "      <td>433014.0</td>\n",
              "      <td>NaN</td>\n",
              "      <td>NaN</td>\n",
              "      <td>Yarra</td>\n",
              "      <td>Northern Metropolitan</td>\n",
              "      <td>2700000.0</td>\n",
              "    </tr>\n",
              "    <tr>\n",
              "      <th>13245</th>\n",
              "      <td>New Gisborne</td>\n",
              "      <td>5</td>\n",
              "      <td>h</td>\n",
              "      <td>S</td>\n",
              "      <td>48.1</td>\n",
              "      <td>5.0</td>\n",
              "      <td>3.0</td>\n",
              "      <td>5.0</td>\n",
              "      <td>44500.0</td>\n",
              "      <td>44515.0</td>\n",
              "      <td>NaN</td>\n",
              "      <td>NaN</td>\n",
              "      <td>Northern Victoria</td>\n",
              "      <td>1355000.0</td>\n",
              "    </tr>\n",
              "  </tbody>\n",
              "</table>\n",
              "</div>"
            ],
            "text/plain": [
              "               Suburb  Rooms Type Method  Distance  Bedroom2  Bathroom  Car  \\\n",
              "7404   Caulfield East      3    h     PI       9.3      20.0       1.0  2.0   \n",
              "9968   Mount Waverley      3    h     VB      14.2       3.0       1.0  4.0   \n",
              "11020         Fitzroy      3    h     VB       2.1       3.0       3.0  1.0   \n",
              "13245    New Gisborne      5    h      S      48.1       5.0       3.0  5.0   \n",
              "\n",
              "       Landsize  BuildingArea  YearBuilt CouncilArea             Regionname  \\\n",
              "7404      875.0           NaN        NaN   Glen Eira  Southern Metropolitan   \n",
              "9968      807.0         117.0     1196.0      Monash   Eastern Metropolitan   \n",
              "11020  433014.0           NaN        NaN       Yarra  Northern Metropolitan   \n",
              "13245   44500.0       44515.0        NaN         NaN      Northern Victoria   \n",
              "\n",
              "           Price  \n",
              "7404   1650000.0  \n",
              "9968   1200000.0  \n",
              "11020  2700000.0  \n",
              "13245  1355000.0  "
            ]
          },
          "execution_count": 508,
          "metadata": {},
          "output_type": "execute_result"
        }
      ],
      "source": [
        "# Outliers\n",
        "outliers = df[(df['Bedroom2'] > 10) | (df['Landsize'] > 100000) | (df['BuildingArea'] > 10000) | (df['YearBuilt'] < 1800) ]\n",
        "outliers"
      ]
    },
    {
      "cell_type": "code",
      "execution_count": null,
      "metadata": {
        "id": "ZkITsEIIhyms"
      },
      "outputs": [],
      "source": [
        "# df = df.drop(outliers.index, axis=0)"
      ]
    },
    {
      "cell_type": "code",
      "execution_count": null,
      "metadata": {
        "id": "NnkSd4Yfhyms",
        "outputId": "4dd38b3d-371a-411b-e5d2-1edad4ab89f9"
      },
      "outputs": [
        {
          "data": {
            "image/png": "[encoded data removed]",
            "text/plain": [
              "<Figure size 432x288 with 1 Axes>"
            ]
          },
          "metadata": {},
          "output_type": "display_data"
        }
      ],
      "source": [
        "# Price vs Landsize\n",
        "sns.scatterplot(x='Landsize', y='Price', data=df);"
      ]
    },
    {
      "cell_type": "code",
      "execution_count": null,
      "metadata": {
        "id": "FI0evEHEhyms",
        "outputId": "d39fbaaf-2343-434d-837a-ec1be744d97d"
      },
      "outputs": [
        {
          "data": {
            "text/html": [
              "<div>\n",
              "<style scoped>\n",
              "    .dataframe tbody tr th:only-of-type {\n",
              "        vertical-align: middle;\n",
              "    }\n",
              "\n",
              "    .dataframe tbody tr th {\n",
              "        vertical-align: top;\n",
              "    }\n",
              "\n",
              "    .dataframe thead th {\n",
              "        text-align: right;\n",
              "    }\n",
              "</style>\n",
              "<table border=\"1\" class=\"dataframe\">\n",
              "  <thead>\n",
              "    <tr style=\"text-align: right;\">\n",
              "      <th></th>\n",
              "      <th>Suburb</th>\n",
              "      <th>Rooms</th>\n",
              "      <th>Type</th>\n",
              "      <th>Method</th>\n",
              "      <th>Distance</th>\n",
              "      <th>Bedroom2</th>\n",
              "      <th>Bathroom</th>\n",
              "      <th>Car</th>\n",
              "      <th>Landsize</th>\n",
              "      <th>BuildingArea</th>\n",
              "      <th>YearBuilt</th>\n",
              "      <th>CouncilArea</th>\n",
              "      <th>Regionname</th>\n",
              "      <th>Price</th>\n",
              "    </tr>\n",
              "  </thead>\n",
              "  <tbody>\n",
              "    <tr>\n",
              "      <th>11020</th>\n",
              "      <td>Fitzroy</td>\n",
              "      <td>3</td>\n",
              "      <td>h</td>\n",
              "      <td>VB</td>\n",
              "      <td>2.1</td>\n",
              "      <td>3.0</td>\n",
              "      <td>3.0</td>\n",
              "      <td>1.0</td>\n",
              "      <td>433014.0</td>\n",
              "      <td>NaN</td>\n",
              "      <td>NaN</td>\n",
              "      <td>Yarra</td>\n",
              "      <td>Northern Metropolitan</td>\n",
              "      <td>2700000.0</td>\n",
              "    </tr>\n",
              "  </tbody>\n",
              "</table>\n",
              "</div>"
            ],
            "text/plain": [
              "        Suburb  Rooms Type Method  Distance  Bedroom2  Bathroom  Car  \\\n",
              "11020  Fitzroy      3    h     VB       2.1       3.0       3.0  1.0   \n",
              "\n",
              "       Landsize  BuildingArea  YearBuilt CouncilArea             Regionname  \\\n",
              "11020  433014.0           NaN        NaN       Yarra  Northern Metropolitan   \n",
              "\n",
              "           Price  \n",
              "11020  2700000.0  "
            ]
          },
          "execution_count": 511,
          "metadata": {},
          "output_type": "execute_result"
        }
      ],
      "source": [
        "# Outlier pada Landsize\n",
        "df[df['Landsize'] > 400000]"
      ]
    },
    {
      "cell_type": "code",
      "execution_count": null,
      "metadata": {
        "id": "uxJykSabhyms",
        "outputId": "19799f82-6619-4102-e4af-96bf79abdbdf"
      },
      "outputs": [
        {
          "data": {
            "image/png": "[encoded data removed]",
            "text/plain": [
              "<Figure size 432x288 with 1 Axes>"
            ]
          },
          "metadata": {},
          "output_type": "display_data"
        }
      ],
      "source": [
        "sns.scatterplot(x='Landsize', y='Price', data=df[df['Landsize'] < 40000]);"
      ]
    },
    {
      "cell_type": "code",
      "execution_count": null,
      "metadata": {
        "id": "jujJL_g8hyms",
        "outputId": "23315923-ec62-4e00-e318-e4933776a73f"
      },
      "outputs": [
        {
          "data": {
            "image/png": "[encoded data removed]",
            "text/plain": [
              "<Figure size 432x288 with 1 Axes>"
            ]
          },
          "metadata": {},
          "output_type": "display_data"
        }
      ],
      "source": [
        "# Building Area vs Price\n",
        "sns.scatterplot(x='BuildingArea', y='Price', data=df);"
      ]
    },
    {
      "cell_type": "code",
      "execution_count": null,
      "metadata": {
        "id": "cUWRzLAuhyms",
        "outputId": "8dec1d3c-7da2-4066-f27c-69e0d2e8f7a4"
      },
      "outputs": [
        {
          "data": {
            "text/html": [
              "<div>\n",
              "<style scoped>\n",
              "    .dataframe tbody tr th:only-of-type {\n",
              "        vertical-align: middle;\n",
              "    }\n",
              "\n",
              "    .dataframe tbody tr th {\n",
              "        vertical-align: top;\n",
              "    }\n",
              "\n",
              "    .dataframe thead th {\n",
              "        text-align: right;\n",
              "    }\n",
              "</style>\n",
              "<table border=\"1\" class=\"dataframe\">\n",
              "  <thead>\n",
              "    <tr style=\"text-align: right;\">\n",
              "      <th></th>\n",
              "      <th>Suburb</th>\n",
              "      <th>Rooms</th>\n",
              "      <th>Type</th>\n",
              "      <th>Method</th>\n",
              "      <th>Distance</th>\n",
              "      <th>Bedroom2</th>\n",
              "      <th>Bathroom</th>\n",
              "      <th>Car</th>\n",
              "      <th>Landsize</th>\n",
              "      <th>BuildingArea</th>\n",
              "      <th>YearBuilt</th>\n",
              "      <th>CouncilArea</th>\n",
              "      <th>Regionname</th>\n",
              "      <th>Price</th>\n",
              "    </tr>\n",
              "  </thead>\n",
              "  <tbody>\n",
              "    <tr>\n",
              "      <th>13245</th>\n",
              "      <td>New Gisborne</td>\n",
              "      <td>5</td>\n",
              "      <td>h</td>\n",
              "      <td>S</td>\n",
              "      <td>48.1</td>\n",
              "      <td>5.0</td>\n",
              "      <td>3.0</td>\n",
              "      <td>5.0</td>\n",
              "      <td>44500.0</td>\n",
              "      <td>44515.0</td>\n",
              "      <td>NaN</td>\n",
              "      <td>NaN</td>\n",
              "      <td>Northern Victoria</td>\n",
              "      <td>1355000.0</td>\n",
              "    </tr>\n",
              "  </tbody>\n",
              "</table>\n",
              "</div>"
            ],
            "text/plain": [
              "             Suburb  Rooms Type Method  Distance  Bedroom2  Bathroom  Car  \\\n",
              "13245  New Gisborne      5    h      S      48.1       5.0       3.0  5.0   \n",
              "\n",
              "       Landsize  BuildingArea  YearBuilt CouncilArea         Regionname  \\\n",
              "13245   44500.0       44515.0        NaN         NaN  Northern Victoria   \n",
              "\n",
              "           Price  \n",
              "13245  1355000.0  "
            ]
          },
          "execution_count": 514,
          "metadata": {},
          "output_type": "execute_result"
        }
      ],
      "source": [
        "# Outlier\n",
        "df[df['BuildingArea'] > 40000]"
      ]
    },
    {
      "cell_type": "code",
      "execution_count": null,
      "metadata": {
        "id": "I-glZJ1yhyms",
        "outputId": "2e435ff6-6a66-471c-9e42-ec14499c27a0"
      },
      "outputs": [
        {
          "data": {
            "image/png": "[encoded data removed]",
            "text/plain": [
              "<Figure size 432x288 with 1 Axes>"
            ]
          },
          "metadata": {},
          "output_type": "display_data"
        }
      ],
      "source": [
        "sns.scatterplot(x='BuildingArea', y='Price', data=df[df['BuildingArea'] < 40000]);"
      ]
    },
    {
      "cell_type": "code",
      "execution_count": null,
      "metadata": {
        "id": "ED9ZmInyhymt",
        "outputId": "4439cf5a-a08a-4594-a6d6-6bd0f99934fd"
      },
      "outputs": [
        {
          "data": {
            "text/plain": [
              "Suburb             0\n",
              "Rooms              0\n",
              "Type               0\n",
              "Method             0\n",
              "Distance           0\n",
              "Bedroom2           0\n",
              "Bathroom           0\n",
              "Car               62\n",
              "Landsize           0\n",
              "BuildingArea    6450\n",
              "YearBuilt       5375\n",
              "CouncilArea     1369\n",
              "Regionname         0\n",
              "Price              0\n",
              "dtype: int64"
            ]
          },
          "execution_count": 516,
          "metadata": {},
          "output_type": "execute_result"
        }
      ],
      "source": [
        "df.isna().sum()"
      ]
    },
    {
      "cell_type": "code",
      "execution_count": null,
      "metadata": {
        "id": "6wod4no4hymt",
        "outputId": "4ef6339c-b6cd-4446-e293-18f85754b702"
      },
      "outputs": [
        {
          "data": {
            "text/plain": [
              "Rooms           0.496634\n",
              "Distance       -0.162522\n",
              "Bedroom2        0.475951\n",
              "Bathroom        0.467038\n",
              "Car             0.238979\n",
              "Landsize        0.037507\n",
              "BuildingArea    0.090981\n",
              "YearBuilt      -0.323617\n",
              "Price           1.000000\n",
              "Name: Price, dtype: float64"
            ]
          },
          "execution_count": 517,
          "metadata": {},
          "output_type": "execute_result"
        }
      ],
      "source": [
        "# Check correlation to the target\n",
        "df.corr()['Price']"
      ]
    },
    {
      "cell_type": "markdown",
      "metadata": {
        "id": "jeamZ4Wbhymt"
      },
      "source": [
        "## **Data Pre-processing**"
      ]
    },
    {
      "cell_type": "markdown",
      "metadata": {
        "id": "4Pwz7EcGhymt"
      },
      "source": [
        "### Isi missing value pada feature: 'Car','BuildingArea','YearBuilt','CouncilArea'\n",
        "- SimpleImputer: most_frequent untuk 'CouncilArea'\n",
        "- Iterative imputer: 'Car','BuildingArea','YearBuilt'\n",
        "\n",
        "### Encoding:\n",
        "- Binary Encoding : 'Suburb', 'CouncilArea', 'Regionname'\n",
        "- Onehot Encoding : 'Type', 'Method'\n",
        "\n",
        "### Scaling:\n",
        "- RobustScaler() karena terdapat banyak outliers"
      ]
    },
    {
      "cell_type": "code",
      "execution_count": null,
      "metadata": {
        "id": "K0HwAN5uhymt"
      },
      "outputs": [],
      "source": [
        "# Import Libraries\n",
        "from sklearn.experimental import enable_iterative_imputer\n",
        "from sklearn.impute import IterativeImputer\n",
        "from sklearn.impute import SimpleImputer\n",
        "\n",
        "from sklearn.model_selection import train_test_split\n",
        "from sklearn.compose import ColumnTransformer # untuk transformers\n",
        "from sklearn.pipeline import Pipeline\n",
        "from sklearn.preprocessing import OneHotEncoder\n",
        "import category_encoders as ce # untuk ordinal dan binary encoder\n",
        "from sklearn.preprocessing import RobustScaler"
      ]
    },
    {
      "cell_type": "markdown",
      "metadata": {
        "id": "PBBWx4DDhymt"
      },
      "source": [
        "## **Data Splitting**"
      ]
    },
    {
      "cell_type": "code",
      "execution_count": null,
      "metadata": {
        "id": "7I5Qtr9Ihymt"
      },
      "outputs": [],
      "source": [
        "# Define X and y\n",
        "X = df.drop(columns='Price')\n",
        "y = df['Price']"
      ]
    },
    {
      "cell_type": "code",
      "execution_count": null,
      "metadata": {
        "id": "GznxUkiyhymt"
      },
      "outputs": [],
      "source": [
        "# Splitting\n",
        "X_train, X_test, y_train, y_test = train_test_split(\n",
        "    X,\n",
        "    y,\n",
        "    test_size=0.2,\n",
        "    random_state=2020\n",
        ")"
      ]
    },
    {
      "cell_type": "markdown",
      "metadata": {
        "id": "65JM2wxBhymt"
      },
      "source": [
        "## **Data Transform**"
      ]
    },
    {
      "cell_type": "markdown",
      "metadata": {
        "id": "n4QDiHaMhymt"
      },
      "source": [
        "### Isi missing value pada feature: 'Car','BuildingArea','YearBuilt','CouncilArea'\n",
        "- SimpleImputer: most_frequent untuk 'CouncilArea'\n",
        "- Iterative imputer: 'Car','BuildingArea','YearBuilt'\n",
        "\n",
        "### Encoding:\n",
        "- Binary Encoding : 'Suburb', 'CouncilArea', 'Regionname'\n",
        "- Onehot Encoding : 'Type', 'Method'\n",
        "\n",
        "### Scaling:\n",
        "- RobustScaler() karena terdapat banyak outliers"
      ]
    },
    {
      "cell_type": "code",
      "execution_count": null,
      "metadata": {
        "id": "GEm2FT9phymt"
      },
      "outputs": [],
      "source": [
        "# Binary & Simple imputer (mode)\n",
        "binary_simple = Pipeline([\n",
        "    ('imputer', SimpleImputer(strategy='most_frequent')),\n",
        "    ('binary', ce.BinaryEncoder())\n",
        "])\n",
        "\n",
        "# Encoding\n",
        "transformer = ColumnTransformer([\n",
        "    ('imputer', IterativeImputer(), ['Car','BuildingArea','YearBuilt']),\n",
        "    ('onehot', OneHotEncoder(drop='first'), ['Type','Method']),\n",
        "    ('binary', ce.BinaryEncoder(), ['Suburb','Regionname']),\n",
        "    ('binary_simple', binary_simple, ['CouncilArea'])\n",
        "], remainder='passthrough')"
      ]
    },
    {
      "cell_type": "code",
      "execution_count": null,
      "metadata": {
        "id": "_W1rYxi8hymy",
        "outputId": "50e70981-ecd9-4c89-b54c-ec79d0b2de7d"
      },
      "outputs": [
        {
          "data": {
            "text/html": [
              "<div>\n",
              "<style scoped>\n",
              "    .dataframe tbody tr th:only-of-type {\n",
              "        vertical-align: middle;\n",
              "    }\n",
              "\n",
              "    .dataframe tbody tr th {\n",
              "        vertical-align: top;\n",
              "    }\n",
              "\n",
              "    .dataframe thead th {\n",
              "        text-align: right;\n",
              "    }\n",
              "</style>\n",
              "<table border=\"1\" class=\"dataframe\">\n",
              "  <thead>\n",
              "    <tr style=\"text-align: right;\">\n",
              "      <th></th>\n",
              "      <th>Suburb</th>\n",
              "      <th>Rooms</th>\n",
              "      <th>Type</th>\n",
              "      <th>Method</th>\n",
              "      <th>Distance</th>\n",
              "      <th>Bedroom2</th>\n",
              "      <th>Bathroom</th>\n",
              "      <th>Car</th>\n",
              "      <th>Landsize</th>\n",
              "      <th>BuildingArea</th>\n",
              "      <th>YearBuilt</th>\n",
              "      <th>CouncilArea</th>\n",
              "      <th>Regionname</th>\n",
              "    </tr>\n",
              "  </thead>\n",
              "  <tbody>\n",
              "    <tr>\n",
              "      <th>12761</th>\n",
              "      <td>Kew</td>\n",
              "      <td>3</td>\n",
              "      <td>h</td>\n",
              "      <td>S</td>\n",
              "      <td>5.4</td>\n",
              "      <td>3.0</td>\n",
              "      <td>2.0</td>\n",
              "      <td>2.0</td>\n",
              "      <td>460.0</td>\n",
              "      <td>NaN</td>\n",
              "      <td>2000.0</td>\n",
              "      <td>NaN</td>\n",
              "      <td>Southern Metropolitan</td>\n",
              "    </tr>\n",
              "    <tr>\n",
              "      <th>5272</th>\n",
              "      <td>Richmond</td>\n",
              "      <td>5</td>\n",
              "      <td>h</td>\n",
              "      <td>SP</td>\n",
              "      <td>2.6</td>\n",
              "      <td>5.0</td>\n",
              "      <td>3.0</td>\n",
              "      <td>3.0</td>\n",
              "      <td>618.0</td>\n",
              "      <td>260.0</td>\n",
              "      <td>1890.0</td>\n",
              "      <td>Yarra</td>\n",
              "      <td>Northern Metropolitan</td>\n",
              "    </tr>\n",
              "    <tr>\n",
              "      <th>4772</th>\n",
              "      <td>Port Melbourne</td>\n",
              "      <td>2</td>\n",
              "      <td>u</td>\n",
              "      <td>S</td>\n",
              "      <td>3.8</td>\n",
              "      <td>1.0</td>\n",
              "      <td>1.0</td>\n",
              "      <td>1.0</td>\n",
              "      <td>0.0</td>\n",
              "      <td>70.0</td>\n",
              "      <td>2005.0</td>\n",
              "      <td>Port Phillip</td>\n",
              "      <td>Southern Metropolitan</td>\n",
              "    </tr>\n",
              "    <tr>\n",
              "      <th>4711</th>\n",
              "      <td>Port Melbourne</td>\n",
              "      <td>2</td>\n",
              "      <td>u</td>\n",
              "      <td>VB</td>\n",
              "      <td>3.8</td>\n",
              "      <td>2.0</td>\n",
              "      <td>2.0</td>\n",
              "      <td>1.0</td>\n",
              "      <td>0.0</td>\n",
              "      <td>NaN</td>\n",
              "      <td>NaN</td>\n",
              "      <td>Port Phillip</td>\n",
              "      <td>Southern Metropolitan</td>\n",
              "    </tr>\n",
              "    <tr>\n",
              "      <th>11201</th>\n",
              "      <td>Southbank</td>\n",
              "      <td>2</td>\n",
              "      <td>u</td>\n",
              "      <td>S</td>\n",
              "      <td>0.7</td>\n",
              "      <td>2.0</td>\n",
              "      <td>1.0</td>\n",
              "      <td>1.0</td>\n",
              "      <td>0.0</td>\n",
              "      <td>88.0</td>\n",
              "      <td>NaN</td>\n",
              "      <td>Melbourne</td>\n",
              "      <td>Southern Metropolitan</td>\n",
              "    </tr>\n",
              "  </tbody>\n",
              "</table>\n",
              "</div>"
            ],
            "text/plain": [
              "               Suburb  Rooms Type Method  Distance  Bedroom2  Bathroom  Car  \\\n",
              "12761             Kew      3    h      S       5.4       3.0       2.0  2.0   \n",
              "5272         Richmond      5    h     SP       2.6       5.0       3.0  3.0   \n",
              "4772   Port Melbourne      2    u      S       3.8       1.0       1.0  1.0   \n",
              "4711   Port Melbourne      2    u     VB       3.8       2.0       2.0  1.0   \n",
              "11201       Southbank      2    u      S       0.7       2.0       1.0  1.0   \n",
              "\n",
              "       Landsize  BuildingArea  YearBuilt   CouncilArea             Regionname  \n",
              "12761     460.0           NaN     2000.0           NaN  Southern Metropolitan  \n",
              "5272      618.0         260.0     1890.0         Yarra  Northern Metropolitan  \n",
              "4772        0.0          70.0     2005.0  Port Phillip  Southern Metropolitan  \n",
              "4711        0.0           NaN        NaN  Port Phillip  Southern Metropolitan  \n",
              "11201       0.0          88.0        NaN     Melbourne  Southern Metropolitan  "
            ]
          },
          "execution_count": 522,
          "metadata": {},
          "output_type": "execute_result"
        }
      ],
      "source": [
        "X_train.head()"
      ]
    },
    {
      "cell_type": "code",
      "execution_count": null,
      "metadata": {
        "id": "VUjSgLYjhymy"
      },
      "outputs": [],
      "source": [
        "# .fit and .transform method\n",
        "X_train_preprocessed = transformer.fit_transform(X_train)\n",
        "\n",
        "#.transform method\n",
        "X_test_preprocessed = transformer.transform(X_test)"
      ]
    },
    {
      "cell_type": "code",
      "execution_count": null,
      "metadata": {
        "id": "vODgmkjchymz",
        "outputId": "46801b00-338d-4de0-acfe-f6932b063b8a"
      },
      "outputs": [
        {
          "data": {
            "text/plain": [
              "array([[ 2.00000000e+00, -9.71746334e+01,  2.00000000e+03, ...,\n",
              "         3.00000000e+00,  2.00000000e+00,  4.60000000e+02],\n",
              "       [ 3.00000000e+00,  2.60000000e+02,  1.89000000e+03, ...,\n",
              "         5.00000000e+00,  3.00000000e+00,  6.18000000e+02],\n",
              "       [ 1.00000000e+00,  7.00000000e+01,  2.00500000e+03, ...,\n",
              "         1.00000000e+00,  1.00000000e+00,  0.00000000e+00],\n",
              "       ...,\n",
              "       [ 2.00000000e+00,  2.27000000e+02,  1.96000000e+03, ...,\n",
              "         4.00000000e+00,  3.00000000e+00,  6.36000000e+02],\n",
              "       [ 1.00000000e+00,  1.01000000e+02,  2.00700000e+03, ...,\n",
              "         2.00000000e+00,  2.00000000e+00,  1.17000000e+02],\n",
              "       [ 1.00000000e+00,  5.69205339e+01,  1.97000000e+03, ...,\n",
              "         2.00000000e+00,  1.00000000e+00,  1.34000000e+02]])"
            ]
          },
          "execution_count": 524,
          "metadata": {},
          "output_type": "execute_result"
        }
      ],
      "source": [
        "X_train_preprocessed"
      ]
    },
    {
      "cell_type": "code",
      "execution_count": null,
      "metadata": {
        "id": "7MCYwNh_hymz"
      },
      "outputs": [],
      "source": [
        ""
      ]
    },
    {
      "cell_type": "markdown",
      "metadata": {
        "id": "7qMcJtKChymz"
      },
      "source": [
        "## **Scaling**"
      ]
    },
    {
      "cell_type": "code",
      "execution_count": null,
      "metadata": {
        "id": "j9By1j1phymz"
      },
      "outputs": [],
      "source": [
        "# Scaling\n",
        "scaler = RobustScaler()\n",
        "\n",
        "X_train_preprocessed_scaled = scaler.fit_transform(X_train_preprocessed)\n",
        "X_test_preprocessed_scaled = scaler.transform(X_test_preprocessed)"
      ]
    },
    {
      "cell_type": "code",
      "execution_count": null,
      "metadata": {
        "id": "88UPrxTahymz",
        "outputId": "8d90ba01-e4fe-4b91-c4b1-35e480f2cf5c"
      },
      "outputs": [
        {
          "data": {
            "text/plain": [
              "array([[ 0.        , -3.16375433,  2.35706409, ...,  0.        ,\n",
              "         1.        ,  0.02959831],\n",
              "       [ 1.        ,  1.81044889, -4.97626924, ...,  2.        ,\n",
              "         2.        ,  0.36363636],\n",
              "       [-1.        , -0.83559179,  2.69039742, ..., -2.        ,\n",
              "         0.        , -0.94291755],\n",
              "       ...,\n",
              "       [ 0.        ,  1.3508734 , -0.30960258, ...,  1.        ,\n",
              "         2.        ,  0.40169133],\n",
              "       [-1.        , -0.40386937,  2.82373076, ..., -1.        ,\n",
              "         1.        , -0.69556025],\n",
              "       [-1.        , -1.01774337,  0.35706409, ..., -1.        ,\n",
              "         0.        , -0.65961945]])"
            ]
          },
          "execution_count": 526,
          "metadata": {},
          "output_type": "execute_result"
        }
      ],
      "source": [
        "X_train_preprocessed_scaled"
      ]
    },
    {
      "cell_type": "code",
      "execution_count": null,
      "metadata": {
        "id": "hkR0OZMkhymz"
      },
      "outputs": [],
      "source": []
    },
    {
      "cell_type": "markdown",
      "metadata": {
        "id": "e8S38ckshymz"
      },
      "source": [
        "## **Find the best alpha**\n"
      ]
    },
    {
      "cell_type": "code",
      "execution_count": null,
      "metadata": {
        "id": "mgmY1QXLhymz"
      },
      "outputs": [],
      "source": [
        "# Import Libraries\n",
        "from sklearn.linear_model import LinearRegression, Lasso\n",
        "from sklearn.metrics import mean_squared_error"
      ]
    },
    {
      "cell_type": "code",
      "execution_count": null,
      "metadata": {
        "id": "Oj_HPhiihymz"
      },
      "outputs": [],
      "source": [
        "# Lasso\n",
        "\n",
        "alpha = [100000, 10000, 1000, 100, 10, 1, 0.1, 0.01, 0.001, 0.0000001]\n",
        "training_rmse = []\n",
        "testing_rmse = []\n",
        "score = 0\n",
        "\n",
        "for i in range(len(alpha)):\n",
        "    lasso = Lasso(alpha=alpha[i])\n",
        "    lasso.fit(X_train_preprocessed_scaled, y_train)\n",
        "\n",
        "    y_predict_train = lasso.predict(X_train_preprocessed_scaled)\n",
        "    rmse_train = mean_squared_error(y_train, y_predict_train)**0.5\n",
        "    training_rmse.append(rmse_train)\n",
        "\n",
        "    y_predict_test = lasso.predict(X_test_preprocessed_scaled)\n",
        "    rmse_score = mean_squared_error(y_test, y_predict_test)**0.5\n",
        "    testing_rmse.append(rmse_score)\n",
        "\n",
        "    if i==0:\n",
        "        score = rmse_score\n",
        "        best_alpha = alpha[i]\n",
        "\n",
        "    if score > rmse_score:\n",
        "        score = rmse_score\n",
        "        best_alpha = alpha[i]"
      ]
    },
    {
      "cell_type": "code",
      "execution_count": null,
      "metadata": {
        "id": "Hlf_fQVlhymz"
      },
      "outputs": [],
      "source": []
    },
    {
      "cell_type": "code",
      "execution_count": null,
      "metadata": {
        "id": "T511J3kshymz",
        "outputId": "ced2fbc9-7a0f-4cc2-9fcb-1f752d434aba"
      },
      "outputs": [
        {
          "name": "stdout",
          "output_type": "stream",
          "text": [
            "Best alpha 1e-07\n",
            "RMSE 417538.3202514401\n",
            "Training RMSE: [534474.0035984509, 414799.00677691866, 405865.56986006635, 405129.5878519098, 405098.6551212763, 405098.34579538484, 405098.3427022167, 405098.3426712857, 405098.3426709764, 405098.3426709732]\n",
            "Testing RMSE: [547588.0422426002, 426855.9922854434, 420519.24386233743, 417703.47339413734, 417550.19388421124, 417539.46105261374, 417538.4338568128, 417538.3316065128, 417538.3213867503, 417538.3202514401]\n"
          ]
        }
      ],
      "source": [
        "print('Best alpha', best_alpha)\n",
        "print('RMSE', score)\n",
        "\n",
        "print('Training RMSE:', training_rmse)\n",
        "print('Testing RMSE:', testing_rmse)\n"
      ]
    },
    {
      "cell_type": "code",
      "execution_count": null,
      "metadata": {
        "id": "Ro_ClmPFhymz",
        "outputId": "b938058b-0199-4dce-f8d6-5bf1187727b9"
      },
      "outputs": [
        {
          "data": {
            "image/png": "[encoded data removed]",
            "text/plain": [
              "<Figure size 1440x720 with 1 Axes>"
            ]
          },
          "metadata": {},
          "output_type": "display_data"
        }
      ],
      "source": [
        "# Plot the alphas\n",
        "sns.set(palette='Set1')\n",
        "length = range(len(alpha))\n",
        "\n",
        "plt.figure(figsize = (20,10))\n",
        "\n",
        "sns.lineplot(length, testing_rmse)\n",
        "sns.scatterplot(length, testing_rmse)\n",
        "\n",
        "sns.lineplot(length,training_rmse)\n",
        "sns.scatterplot(length, training_rmse)\n",
        "\n",
        "plt.legend(['testing RMSE', 'training RMSE'])\n",
        "plt.xticks(length, alpha);"
      ]
    },
    {
      "cell_type": "code",
      "execution_count": null,
      "metadata": {
        "id": "ePiJU4bJhym0",
        "outputId": "288d2ffb-63ae-4132-cc00-585c193c9ab4"
      },
      "outputs": [
        {
          "data": {
            "text/html": [
              "<div>\n",
              "<style scoped>\n",
              "    .dataframe tbody tr th:only-of-type {\n",
              "        vertical-align: middle;\n",
              "    }\n",
              "\n",
              "    .dataframe tbody tr th {\n",
              "        vertical-align: top;\n",
              "    }\n",
              "\n",
              "    .dataframe thead th {\n",
              "        text-align: right;\n",
              "    }\n",
              "</style>\n",
              "<table border=\"1\" class=\"dataframe\">\n",
              "  <thead>\n",
              "    <tr style=\"text-align: right;\">\n",
              "      <th></th>\n",
              "      <th>alpha</th>\n",
              "      <th>train RMSE</th>\n",
              "      <th>test RMSE</th>\n",
              "    </tr>\n",
              "  </thead>\n",
              "  <tbody>\n",
              "    <tr>\n",
              "      <th>0</th>\n",
              "      <td>1.000000e+05</td>\n",
              "      <td>534474.003598</td>\n",
              "      <td>547588.042243</td>\n",
              "    </tr>\n",
              "    <tr>\n",
              "      <th>1</th>\n",
              "      <td>1.000000e+04</td>\n",
              "      <td>414799.006777</td>\n",
              "      <td>426855.992285</td>\n",
              "    </tr>\n",
              "    <tr>\n",
              "      <th>2</th>\n",
              "      <td>1.000000e+03</td>\n",
              "      <td>405865.569860</td>\n",
              "      <td>420519.243862</td>\n",
              "    </tr>\n",
              "    <tr>\n",
              "      <th>3</th>\n",
              "      <td>1.000000e+02</td>\n",
              "      <td>405129.587852</td>\n",
              "      <td>417703.473394</td>\n",
              "    </tr>\n",
              "    <tr>\n",
              "      <th>4</th>\n",
              "      <td>1.000000e+01</td>\n",
              "      <td>405098.655121</td>\n",
              "      <td>417550.193884</td>\n",
              "    </tr>\n",
              "    <tr>\n",
              "      <th>5</th>\n",
              "      <td>1.000000e+00</td>\n",
              "      <td>405098.345795</td>\n",
              "      <td>417539.461053</td>\n",
              "    </tr>\n",
              "    <tr>\n",
              "      <th>6</th>\n",
              "      <td>1.000000e-01</td>\n",
              "      <td>405098.342702</td>\n",
              "      <td>417538.433857</td>\n",
              "    </tr>\n",
              "    <tr>\n",
              "      <th>7</th>\n",
              "      <td>1.000000e-02</td>\n",
              "      <td>405098.342671</td>\n",
              "      <td>417538.331607</td>\n",
              "    </tr>\n",
              "    <tr>\n",
              "      <th>8</th>\n",
              "      <td>1.000000e-03</td>\n",
              "      <td>405098.342671</td>\n",
              "      <td>417538.321387</td>\n",
              "    </tr>\n",
              "    <tr>\n",
              "      <th>9</th>\n",
              "      <td>1.000000e-07</td>\n",
              "      <td>405098.342671</td>\n",
              "      <td>417538.320251</td>\n",
              "    </tr>\n",
              "  </tbody>\n",
              "</table>\n",
              "</div>"
            ],
            "text/plain": [
              "          alpha     train RMSE      test RMSE\n",
              "0  1.000000e+05  534474.003598  547588.042243\n",
              "1  1.000000e+04  414799.006777  426855.992285\n",
              "2  1.000000e+03  405865.569860  420519.243862\n",
              "3  1.000000e+02  405129.587852  417703.473394\n",
              "4  1.000000e+01  405098.655121  417550.193884\n",
              "5  1.000000e+00  405098.345795  417539.461053\n",
              "6  1.000000e-01  405098.342702  417538.433857\n",
              "7  1.000000e-02  405098.342671  417538.331607\n",
              "8  1.000000e-03  405098.342671  417538.321387\n",
              "9  1.000000e-07  405098.342671  417538.320251"
            ]
          },
          "execution_count": 531,
          "metadata": {},
          "output_type": "execute_result"
        }
      ],
      "source": [
        "pd.DataFrame(\n",
        "    {\n",
        "    'alpha': alpha,\n",
        "    'train RMSE': training_rmse,\n",
        "    'test RMSE': testing_rmse\n",
        "    }\n",
        ")"
      ]
    },
    {
      "cell_type": "markdown",
      "metadata": {
        "id": "YsMrs00vhym0"
      },
      "source": [
        "### **Interpretasi**\n",
        "\n",
        "Dari alpha 1 sampai 0.00001, nilai RMSE untuk train dan test set sudah tidak terlalu berubah signifikan. Jadi, untuk kasus kali ini digunakan alpha = 0.1 saja."
      ]
    },
    {
      "cell_type": "code",
      "execution_count": null,
      "metadata": {
        "id": "0v-t9tzthym0"
      },
      "outputs": [],
      "source": []
    },
    {
      "cell_type": "markdown",
      "metadata": {
        "id": "osoYI_tyhym0"
      },
      "source": [
        "## **Modeling**"
      ]
    },
    {
      "cell_type": "code",
      "execution_count": null,
      "metadata": {
        "id": "7_5g_DCbhym0",
        "outputId": "2b2bfd94-5bac-40b7-82cb-01c6bfe4ba10"
      },
      "outputs": [
        {
          "name": "stdout",
          "output_type": "stream",
          "text": [
            "MSE: 174338343747.6\n",
            "RMSE: 417538.4338568128\n"
          ]
        }
      ],
      "source": [
        "# Model\n",
        "model = Lasso(alpha=0.1)\n",
        "\n",
        "# Model training\n",
        "model.fit(X_train_preprocessed_scaled, y_train)\n",
        "\n",
        "# Model predicting test set\n",
        "y_pred = model.predict(X_test_preprocessed_scaled)\n",
        "\n",
        "# Metrics\n",
        "mse = mean_squared_error(y_test, y_pred)\n",
        "rmse = np.sqrt(mse)\n",
        "\n",
        "print('MSE:', mse)\n",
        "print('RMSE:', rmse)"
      ]
    },
    {
      "cell_type": "code",
      "execution_count": null,
      "metadata": {
        "id": "RA6xA5muhym0"
      },
      "outputs": [],
      "source": []
    },
    {
      "cell_type": "markdown",
      "metadata": {
        "id": "I-iekIY5hym0"
      },
      "source": [
        "## **Modeling with Pipeline**\n",
        "\n",
        "Melakukan tahap transform, scaling, dan modeling dalam 1 tahap."
      ]
    },
    {
      "cell_type": "code",
      "execution_count": null,
      "metadata": {
        "id": "ynCrKgUnhym0",
        "outputId": "99564a1c-cd12-4fe1-e671-ede62f161ae2"
      },
      "outputs": [
        {
          "name": "stdout",
          "output_type": "stream",
          "text": [
            "MSE 174339201536.10715\n",
            "RMSE 417539.46105261374\n"
          ]
        }
      ],
      "source": [
        "# Model Lasso regression\n",
        "lasso = Lasso(alpha=0.1)\n",
        "\n",
        "# Coba model dengan scaling\n",
        "model = Pipeline([\n",
        "    ('transformer', transformer),   # transform features\n",
        "    ('scaling', RobustScaler()),    # scale features\n",
        "    ('model', lasso)                # modeling\n",
        "])\n",
        "\n",
        "# Fit\n",
        "model.fit(X_train, y_train)\n",
        "\n",
        "# Predict\n",
        "y_pred = model.predict(X_test)\n",
        "\n",
        "# Metrics\n",
        "mse = mean_squared_error(y_test, y_pred)\n",
        "rmse = np.sqrt(mse)\n",
        "\n",
        "print('MSE', mse)\n",
        "print('RMSE', rmse)"
      ]
    },
    {
      "cell_type": "markdown",
      "metadata": {
        "id": "n5pp5ER2hym0"
      },
      "source": [
        "### **Actual & prediction value comparison**"
      ]
    },
    {
      "cell_type": "code",
      "execution_count": null,
      "metadata": {
        "id": "exw87OTkhym0"
      },
      "outputs": [],
      "source": [
        "y_test = y_test.astype('int')\n",
        "y_pred = y_pred.astype('int')\n"
      ]
    },
    {
      "cell_type": "code",
      "execution_count": null,
      "metadata": {
        "id": "1GcHf5bghym0",
        "outputId": "5fe460e6-b304-4283-ec6c-9ee20a5f6f70"
      },
      "outputs": [
        {
          "data": {
            "text/html": [
              "<div>\n",
              "<style scoped>\n",
              "    .dataframe tbody tr th:only-of-type {\n",
              "        vertical-align: middle;\n",
              "    }\n",
              "\n",
              "    .dataframe tbody tr th {\n",
              "        vertical-align: top;\n",
              "    }\n",
              "\n",
              "    .dataframe thead th {\n",
              "        text-align: right;\n",
              "    }\n",
              "</style>\n",
              "<table border=\"1\" class=\"dataframe\">\n",
              "  <thead>\n",
              "    <tr style=\"text-align: right;\">\n",
              "      <th></th>\n",
              "      <th>y_test</th>\n",
              "      <th>y_pred</th>\n",
              "    </tr>\n",
              "  </thead>\n",
              "  <tbody>\n",
              "    <tr>\n",
              "      <th>5385</th>\n",
              "      <td>604000</td>\n",
              "      <td>648410</td>\n",
              "    </tr>\n",
              "    <tr>\n",
              "      <th>1003</th>\n",
              "      <td>1170000</td>\n",
              "      <td>1258908</td>\n",
              "    </tr>\n",
              "    <tr>\n",
              "      <th>6364</th>\n",
              "      <td>2820000</td>\n",
              "      <td>1834142</td>\n",
              "    </tr>\n",
              "    <tr>\n",
              "      <th>1199</th>\n",
              "      <td>880000</td>\n",
              "      <td>1105070</td>\n",
              "    </tr>\n",
              "    <tr>\n",
              "      <th>11593</th>\n",
              "      <td>1640000</td>\n",
              "      <td>1388009</td>\n",
              "    </tr>\n",
              "    <tr>\n",
              "      <th>...</th>\n",
              "      <td>...</td>\n",
              "      <td>...</td>\n",
              "    </tr>\n",
              "    <tr>\n",
              "      <th>9420</th>\n",
              "      <td>1926000</td>\n",
              "      <td>1828061</td>\n",
              "    </tr>\n",
              "    <tr>\n",
              "      <th>1888</th>\n",
              "      <td>3010000</td>\n",
              "      <td>2023451</td>\n",
              "    </tr>\n",
              "    <tr>\n",
              "      <th>13148</th>\n",
              "      <td>1000000</td>\n",
              "      <td>1448267</td>\n",
              "    </tr>\n",
              "    <tr>\n",
              "      <th>2129</th>\n",
              "      <td>1125000</td>\n",
              "      <td>1136921</td>\n",
              "    </tr>\n",
              "    <tr>\n",
              "      <th>606</th>\n",
              "      <td>1575000</td>\n",
              "      <td>1609743</td>\n",
              "    </tr>\n",
              "  </tbody>\n",
              "</table>\n",
              "<p>2716 rows × 2 columns</p>\n",
              "</div>"
            ],
            "text/plain": [
              "        y_test   y_pred\n",
              "5385    604000   648410\n",
              "1003   1170000  1258908\n",
              "6364   2820000  1834142\n",
              "1199    880000  1105070\n",
              "11593  1640000  1388009\n",
              "...        ...      ...\n",
              "9420   1926000  1828061\n",
              "1888   3010000  2023451\n",
              "13148  1000000  1448267\n",
              "2129   1125000  1136921\n",
              "606    1575000  1609743\n",
              "\n",
              "[2716 rows x 2 columns]"
            ]
          },
          "execution_count": 540,
          "metadata": {},
          "output_type": "execute_result"
        }
      ],
      "source": [
        "y_comparison = pd.DataFrame({'y_test':y_test, 'y_pred':y_pred})\n",
        "y_comparison"
      ]
    },
    {
      "cell_type": "code",
      "execution_count": null,
      "metadata": {
        "id": "2eRNWqishym0",
        "outputId": "d1347571-49c9-4ed0-c133-f9c47159f9ba"
      },
      "outputs": [
        {
          "data": {
            "text/plain": [
              "<matplotlib.axes._subplots.AxesSubplot at 0x1c0605a9bc8>"
            ]
          },
          "execution_count": 541,
          "metadata": {},
          "output_type": "execute_result"
        },
        {
          "data": {
            "image/png": "[encoded data removed]",
            "text/plain": [
              "<Figure size 432x288 with 1 Axes>"
            ]
          },
          "metadata": {},
          "output_type": "display_data"
        }
      ],
      "source": [
        "sns.scatterplot(x=y_comparison.index, y=y_test, data = y_comparison, color='r')\n",
        "sns.scatterplot(x=y_comparison.index, y=y_pred, data = y_comparison, color='b')\n"
      ]
    },
    {
      "cell_type": "markdown",
      "metadata": {
        "id": "GE1wVlc6hym1"
      },
      "source": [
        "### **Interpretasi**\n",
        "\n",
        "- Pemodelan Lasso regression dengan menggunakan dan tanpa pipeline menghasilkan nilai RMSE yang sama, yaitu 417539.46.\n",
        "- Untuk ke depannya, pemodelan lebih baik dilakukan dengan menggunakan pipeline untuk menghindari terjadinya information leakage (data test ikut dipelajari oleh model)."
      ]
    }
  ],
  "metadata": {
    "interpreter": {
      "hash": "37eb40c3388cfde35488e2d005b0d69ca91ddeff8a429754d4da636d3f888e5e"
    },
    "kernelspec": {
      "display_name": "Python 3.7.6 64-bit ('base': conda)",
      "name": "python3"
    },
    "language_info": {
      "codemirror_mode": {
        "name": "ipython",
        "version": 3
      },
      "file_extension": ".py",
      "mimetype": "text/x-python",
      "name": "python",
      "nbconvert_exporter": "python",
      "pygments_lexer": "ipython3",
      "version": "3.7.6"
    },
    "orig_nbformat": 4,
    "colab": {
      "provenance": []
    }
  },
  "nbformat": 4,
  "nbformat_minor": 0
}