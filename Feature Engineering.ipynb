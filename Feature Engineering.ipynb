{
  "cells": [
    {
      "cell_type": "markdown",
      "metadata": {
        "id": "meKNHdeAJDmR"
      },
      "source": [
        "# **Latihan Feature Engineering**"
      ]
    },
    {
      "cell_type": "markdown",
      "metadata": {
        "_uuid": "a40153021c15eb45ff2026d456945763c79c11ef",
        "id": "cEvbd_0rJDmX"
      },
      "source": [
        "### **Boston house price prediction**\n",
        "\n",
        "Info mengenai dataset: <https://archive.ics.uci.edu/ml/machine-learning-databases/housing/housing.names>\n",
        "\n",
        "- Gunakan seluruh features yang ada sebagai input model. Target: 'PRICE'\n",
        "- Imputasi missing value jika ada.\n",
        "- Bagaimana korelasi tiap variable terhadap target?\n",
        "<br><br>\n",
        "- Lakukan splitting dengan proporsi 70:30 dan random_state = 4.\n",
        "- Gunakan model Linear Regression sebagai model benchmark. Lakukan pemodelan dengan menggunakan sklearn.\n",
        "- Plot harga asli dan prediksi. Interpretasikan hasilnya.\n",
        "- Bagaimana distribusi residuals-nya? Apakah asumsi normalitas terpenuhi?\n",
        "<br><br>\n",
        "- Lakukan pemodelan dengan menggunakan Polynomial order 2.\n",
        "- Bandingkan hasilnya dengan model benchmark jika ditinjau dari nilai RMSE-nya."
      ]
    },
    {
      "cell_type": "code",
      "execution_count": null,
      "metadata": {
        "_uuid": "c72424fcefad6b27f904bdc3301ff272baf3b212",
        "id": "QOyqGM3PJDmd"
      },
      "outputs": [],
      "source": [
        "# Importing the libraries\n",
        "import pandas as pd\n",
        "import numpy as np\n",
        "import matplotlib.pyplot as plt\n",
        "import seaborn as sns\n",
        "\n",
        "from sklearn import metrics\n",
        "\n",
        "import warnings\n",
        "warnings.filterwarnings('ignore')"
      ]
    },
    {
      "cell_type": "code",
      "execution_count": null,
      "metadata": {
        "_uuid": "7ad691aeebc4b3845eefa1ac8ca32fc4b631209d",
        "scrolled": true,
        "id": "tOm1neJ-JDmf"
      },
      "outputs": [],
      "source": [
        "# Importing the Boston Housing dataset\n",
        "from sklearn.datasets import load_boston\n",
        "boston = load_boston()"
      ]
    },
    {
      "cell_type": "code",
      "execution_count": null,
      "metadata": {
        "_uuid": "5853d3c3d9e4b52f37ea42665f573bfd92941ddf",
        "id": "1CI3j98cJDmh"
      },
      "outputs": [],
      "source": [
        "# Initializing the dataframe\n",
        "df = pd.DataFrame(boston.data)"
      ]
    },
    {
      "cell_type": "code",
      "execution_count": null,
      "metadata": {
        "_uuid": "7b6f7755accf4b1c5f4e90a3d4aea7f41f89a482",
        "id": "vTxcw-yXJDmi",
        "outputId": "deda241b-d67d-45a9-8751-5baf256683d3"
      },
      "outputs": [
        {
          "data": {
            "text/html": [
              "<div>\n",
              "<style scoped>\n",
              "    .dataframe tbody tr th:only-of-type {\n",
              "        vertical-align: middle;\n",
              "    }\n",
              "\n",
              "    .dataframe tbody tr th {\n",
              "        vertical-align: top;\n",
              "    }\n",
              "\n",
              "    .dataframe thead th {\n",
              "        text-align: right;\n",
              "    }\n",
              "</style>\n",
              "<table border=\"1\" class=\"dataframe\">\n",
              "  <thead>\n",
              "    <tr style=\"text-align: right;\">\n",
              "      <th></th>\n",
              "      <th>0</th>\n",
              "      <th>1</th>\n",
              "      <th>2</th>\n",
              "      <th>3</th>\n",
              "      <th>4</th>\n",
              "      <th>5</th>\n",
              "      <th>6</th>\n",
              "      <th>7</th>\n",
              "      <th>8</th>\n",
              "      <th>9</th>\n",
              "      <th>10</th>\n",
              "      <th>11</th>\n",
              "      <th>12</th>\n",
              "    </tr>\n",
              "  </thead>\n",
              "  <tbody>\n",
              "    <tr>\n",
              "      <th>0</th>\n",
              "      <td>0.00632</td>\n",
              "      <td>18.0</td>\n",
              "      <td>2.31</td>\n",
              "      <td>0.0</td>\n",
              "      <td>0.538</td>\n",
              "      <td>6.575</td>\n",
              "      <td>65.2</td>\n",
              "      <td>4.0900</td>\n",
              "      <td>1.0</td>\n",
              "      <td>296.0</td>\n",
              "      <td>15.3</td>\n",
              "      <td>396.90</td>\n",
              "      <td>4.98</td>\n",
              "    </tr>\n",
              "    <tr>\n",
              "      <th>1</th>\n",
              "      <td>0.02731</td>\n",
              "      <td>0.0</td>\n",
              "      <td>7.07</td>\n",
              "      <td>0.0</td>\n",
              "      <td>0.469</td>\n",
              "      <td>6.421</td>\n",
              "      <td>78.9</td>\n",
              "      <td>4.9671</td>\n",
              "      <td>2.0</td>\n",
              "      <td>242.0</td>\n",
              "      <td>17.8</td>\n",
              "      <td>396.90</td>\n",
              "      <td>9.14</td>\n",
              "    </tr>\n",
              "    <tr>\n",
              "      <th>2</th>\n",
              "      <td>0.02729</td>\n",
              "      <td>0.0</td>\n",
              "      <td>7.07</td>\n",
              "      <td>0.0</td>\n",
              "      <td>0.469</td>\n",
              "      <td>7.185</td>\n",
              "      <td>61.1</td>\n",
              "      <td>4.9671</td>\n",
              "      <td>2.0</td>\n",
              "      <td>242.0</td>\n",
              "      <td>17.8</td>\n",
              "      <td>392.83</td>\n",
              "      <td>4.03</td>\n",
              "    </tr>\n",
              "    <tr>\n",
              "      <th>3</th>\n",
              "      <td>0.03237</td>\n",
              "      <td>0.0</td>\n",
              "      <td>2.18</td>\n",
              "      <td>0.0</td>\n",
              "      <td>0.458</td>\n",
              "      <td>6.998</td>\n",
              "      <td>45.8</td>\n",
              "      <td>6.0622</td>\n",
              "      <td>3.0</td>\n",
              "      <td>222.0</td>\n",
              "      <td>18.7</td>\n",
              "      <td>394.63</td>\n",
              "      <td>2.94</td>\n",
              "    </tr>\n",
              "    <tr>\n",
              "      <th>4</th>\n",
              "      <td>0.06905</td>\n",
              "      <td>0.0</td>\n",
              "      <td>2.18</td>\n",
              "      <td>0.0</td>\n",
              "      <td>0.458</td>\n",
              "      <td>7.147</td>\n",
              "      <td>54.2</td>\n",
              "      <td>6.0622</td>\n",
              "      <td>3.0</td>\n",
              "      <td>222.0</td>\n",
              "      <td>18.7</td>\n",
              "      <td>396.90</td>\n",
              "      <td>5.33</td>\n",
              "    </tr>\n",
              "  </tbody>\n",
              "</table>\n",
              "</div>"
            ],
            "text/plain": [
              "         0     1     2    3      4      5     6       7    8      9    10  \\\n",
              "0  0.00632  18.0  2.31  0.0  0.538  6.575  65.2  4.0900  1.0  296.0  15.3   \n",
              "1  0.02731   0.0  7.07  0.0  0.469  6.421  78.9  4.9671  2.0  242.0  17.8   \n",
              "2  0.02729   0.0  7.07  0.0  0.469  7.185  61.1  4.9671  2.0  242.0  17.8   \n",
              "3  0.03237   0.0  2.18  0.0  0.458  6.998  45.8  6.0622  3.0  222.0  18.7   \n",
              "4  0.06905   0.0  2.18  0.0  0.458  7.147  54.2  6.0622  3.0  222.0  18.7   \n",
              "\n",
              "       11    12  \n",
              "0  396.90  4.98  \n",
              "1  396.90  9.14  \n",
              "2  392.83  4.03  \n",
              "3  394.63  2.94  \n",
              "4  396.90  5.33  "
            ]
          },
          "execution_count": 5,
          "metadata": {},
          "output_type": "execute_result"
        }
      ],
      "source": [
        "# See head of the dataset\n",
        "df.head()"
      ]
    },
    {
      "cell_type": "code",
      "execution_count": null,
      "metadata": {
        "_uuid": "6ecbc294bdbabbafee3893b5c66bd89709d6a069",
        "scrolled": false,
        "id": "oXTuFDB-JDmk",
        "outputId": "9b34df1d-e8fd-494e-b5d9-e4b3c1808102"
      },
      "outputs": [
        {
          "data": {
            "text/html": [
              "<div>\n",
              "<style scoped>\n",
              "    .dataframe tbody tr th:only-of-type {\n",
              "        vertical-align: middle;\n",
              "    }\n",
              "\n",
              "    .dataframe tbody tr th {\n",
              "        vertical-align: top;\n",
              "    }\n",
              "\n",
              "    .dataframe thead th {\n",
              "        text-align: right;\n",
              "    }\n",
              "</style>\n",
              "<table border=\"1\" class=\"dataframe\">\n",
              "  <thead>\n",
              "    <tr style=\"text-align: right;\">\n",
              "      <th></th>\n",
              "      <th>CRIM</th>\n",
              "      <th>ZN</th>\n",
              "      <th>INDUS</th>\n",
              "      <th>CHAS</th>\n",
              "      <th>NOX</th>\n",
              "      <th>RM</th>\n",
              "      <th>AGE</th>\n",
              "      <th>DIS</th>\n",
              "      <th>RAD</th>\n",
              "      <th>TAX</th>\n",
              "      <th>PTRATIO</th>\n",
              "      <th>B</th>\n",
              "      <th>LSTAT</th>\n",
              "    </tr>\n",
              "  </thead>\n",
              "  <tbody>\n",
              "    <tr>\n",
              "      <th>0</th>\n",
              "      <td>0.00632</td>\n",
              "      <td>18.0</td>\n",
              "      <td>2.31</td>\n",
              "      <td>0.0</td>\n",
              "      <td>0.538</td>\n",
              "      <td>6.575</td>\n",
              "      <td>65.2</td>\n",
              "      <td>4.0900</td>\n",
              "      <td>1.0</td>\n",
              "      <td>296.0</td>\n",
              "      <td>15.3</td>\n",
              "      <td>396.90</td>\n",
              "      <td>4.98</td>\n",
              "    </tr>\n",
              "    <tr>\n",
              "      <th>1</th>\n",
              "      <td>0.02731</td>\n",
              "      <td>0.0</td>\n",
              "      <td>7.07</td>\n",
              "      <td>0.0</td>\n",
              "      <td>0.469</td>\n",
              "      <td>6.421</td>\n",
              "      <td>78.9</td>\n",
              "      <td>4.9671</td>\n",
              "      <td>2.0</td>\n",
              "      <td>242.0</td>\n",
              "      <td>17.8</td>\n",
              "      <td>396.90</td>\n",
              "      <td>9.14</td>\n",
              "    </tr>\n",
              "    <tr>\n",
              "      <th>2</th>\n",
              "      <td>0.02729</td>\n",
              "      <td>0.0</td>\n",
              "      <td>7.07</td>\n",
              "      <td>0.0</td>\n",
              "      <td>0.469</td>\n",
              "      <td>7.185</td>\n",
              "      <td>61.1</td>\n",
              "      <td>4.9671</td>\n",
              "      <td>2.0</td>\n",
              "      <td>242.0</td>\n",
              "      <td>17.8</td>\n",
              "      <td>392.83</td>\n",
              "      <td>4.03</td>\n",
              "    </tr>\n",
              "    <tr>\n",
              "      <th>3</th>\n",
              "      <td>0.03237</td>\n",
              "      <td>0.0</td>\n",
              "      <td>2.18</td>\n",
              "      <td>0.0</td>\n",
              "      <td>0.458</td>\n",
              "      <td>6.998</td>\n",
              "      <td>45.8</td>\n",
              "      <td>6.0622</td>\n",
              "      <td>3.0</td>\n",
              "      <td>222.0</td>\n",
              "      <td>18.7</td>\n",
              "      <td>394.63</td>\n",
              "      <td>2.94</td>\n",
              "    </tr>\n",
              "    <tr>\n",
              "      <th>4</th>\n",
              "      <td>0.06905</td>\n",
              "      <td>0.0</td>\n",
              "      <td>2.18</td>\n",
              "      <td>0.0</td>\n",
              "      <td>0.458</td>\n",
              "      <td>7.147</td>\n",
              "      <td>54.2</td>\n",
              "      <td>6.0622</td>\n",
              "      <td>3.0</td>\n",
              "      <td>222.0</td>\n",
              "      <td>18.7</td>\n",
              "      <td>396.90</td>\n",
              "      <td>5.33</td>\n",
              "    </tr>\n",
              "  </tbody>\n",
              "</table>\n",
              "</div>"
            ],
            "text/plain": [
              "      CRIM    ZN  INDUS  CHAS    NOX     RM   AGE     DIS  RAD    TAX  \\\n",
              "0  0.00632  18.0   2.31   0.0  0.538  6.575  65.2  4.0900  1.0  296.0   \n",
              "1  0.02731   0.0   7.07   0.0  0.469  6.421  78.9  4.9671  2.0  242.0   \n",
              "2  0.02729   0.0   7.07   0.0  0.469  7.185  61.1  4.9671  2.0  242.0   \n",
              "3  0.03237   0.0   2.18   0.0  0.458  6.998  45.8  6.0622  3.0  222.0   \n",
              "4  0.06905   0.0   2.18   0.0  0.458  7.147  54.2  6.0622  3.0  222.0   \n",
              "\n",
              "   PTRATIO       B  LSTAT  \n",
              "0     15.3  396.90   4.98  \n",
              "1     17.8  396.90   9.14  \n",
              "2     17.8  392.83   4.03  \n",
              "3     18.7  394.63   2.94  \n",
              "4     18.7  396.90   5.33  "
            ]
          },
          "execution_count": 6,
          "metadata": {},
          "output_type": "execute_result"
        }
      ],
      "source": [
        "# Adding the feature names to the dataframe\n",
        "df.columns = boston.feature_names\n",
        "df.head()"
      ]
    },
    {
      "cell_type": "markdown",
      "metadata": {
        "_uuid": "d16fdd57c4ee58a812935d5a3e1f4bfe5923e23e",
        "id": "G6EgEn7RJDml"
      },
      "source": [
        "**Tiap baris pada dataset mendeskripsikan suatu suburb atau town di Boston**\n",
        "\n",
        "- CRIM per capita crime rate by town <br>\n",
        "- ZN proportion of residential land zoned for lots over 25,000 sq.ft. <br>\n",
        "- INDUS proportion of non-retail business acres per town <br>\n",
        "- CHAS Charles River dummy variable (= 1 if tract bounds river; 0 otherwise) <br>\n",
        "- NOX nitric oxides concentration (parts per 10 million) <br>\n",
        "- RM average number of rooms per dwelling <br>\n",
        "- AGE proportion of owner-occupied units built prior to 1940 <br>\n",
        "- DIS weighted distances to five Boston employment centres <br>\n",
        "- RAD index of accessibility to radial highways <br>\n",
        "- TAX full-value property-tax rate per 10,000usd <br>\n",
        "- PTRATIO pupil-teacher ratio by town <br>\n",
        "- B 1000(Bk - 0.63)^2 where Bk is the proportion of blacks by town <br>\n",
        "- LSTAT % lower status of the population"
      ]
    },
    {
      "cell_type": "code",
      "execution_count": null,
      "metadata": {
        "_uuid": "293641aa8ae59c57884bd19c0ee6fc43143b19b8",
        "id": "e9LEQ9wuJDmo"
      },
      "outputs": [],
      "source": [
        "# Adding target variable to dataframe\n",
        "# Median value of owner-occupied homes in $1000s\n",
        "df['PRICE'] = boston.target"
      ]
    },
    {
      "cell_type": "code",
      "execution_count": null,
      "metadata": {
        "_uuid": "b5edd7daea054f44df78e956846596fd9e82274f",
        "id": "G1YFn9fYJDmq",
        "outputId": "93daf1ba-a64d-4531-a9e8-51f1d1bb3d41"
      },
      "outputs": [
        {
          "data": {
            "text/plain": [
              "(506, 14)"
            ]
          },
          "execution_count": 8,
          "metadata": {},
          "output_type": "execute_result"
        }
      ],
      "source": [
        "# Check the shape of dataframe\n",
        "df.shape"
      ]
    },
    {
      "cell_type": "code",
      "execution_count": null,
      "metadata": {
        "_uuid": "264fd03458b3b349d2d52ac02b83e2e85b6190b2",
        "id": "3h9ohI9JJDms",
        "outputId": "82f747ed-b082-468e-a36d-1c97812dc528"
      },
      "outputs": [
        {
          "data": {
            "text/plain": [
              "Index(['CRIM', 'ZN', 'INDUS', 'CHAS', 'NOX', 'RM', 'AGE', 'DIS', 'RAD', 'TAX',\n",
              "       'PTRATIO', 'B', 'LSTAT', 'PRICE'],\n",
              "      dtype='object')"
            ]
          },
          "execution_count": 9,
          "metadata": {},
          "output_type": "execute_result"
        }
      ],
      "source": [
        "# Check columns name\n",
        "df.columns"
      ]
    },
    {
      "cell_type": "code",
      "execution_count": null,
      "metadata": {
        "_uuid": "1a745ede36d316c539a7c8d53ced27b9ccae85b2",
        "id": "LANxELC6JDmt",
        "outputId": "d0ae442c-7081-4185-98fd-799417e599bf"
      },
      "outputs": [
        {
          "data": {
            "text/plain": [
              "CRIM       float64\n",
              "ZN         float64\n",
              "INDUS      float64\n",
              "CHAS       float64\n",
              "NOX        float64\n",
              "RM         float64\n",
              "AGE        float64\n",
              "DIS        float64\n",
              "RAD        float64\n",
              "TAX        float64\n",
              "PTRATIO    float64\n",
              "B          float64\n",
              "LSTAT      float64\n",
              "PRICE      float64\n",
              "dtype: object"
            ]
          },
          "execution_count": 10,
          "metadata": {},
          "output_type": "execute_result"
        }
      ],
      "source": [
        "# Check datatypes\n",
        "df.dtypes"
      ]
    },
    {
      "cell_type": "code",
      "execution_count": null,
      "metadata": {
        "_uuid": "e86b006860c2efe29294aca3ba4419d9c758ced2",
        "id": "_ejW8zKGJDmu",
        "outputId": "da605a50-badc-40e0-992b-36ce1787ab2d"
      },
      "outputs": [
        {
          "data": {
            "text/plain": [
              "CRIM       504\n",
              "ZN          26\n",
              "INDUS       76\n",
              "CHAS         2\n",
              "NOX         81\n",
              "RM         446\n",
              "AGE        356\n",
              "DIS        412\n",
              "RAD          9\n",
              "TAX         66\n",
              "PTRATIO     46\n",
              "B          357\n",
              "LSTAT      455\n",
              "PRICE      229\n",
              "dtype: int64"
            ]
          },
          "execution_count": 11,
          "metadata": {},
          "output_type": "execute_result"
        }
      ],
      "source": [
        "# Identifying the unique number of values in the dataset\n",
        "df.nunique()"
      ]
    },
    {
      "cell_type": "code",
      "execution_count": null,
      "metadata": {
        "_uuid": "cef1bbf6ab92b5cd42a9a0771a24f48a09acf218",
        "scrolled": false,
        "id": "Z5GeyD8FJDmw",
        "outputId": "3f3201e9-e369-4562-8625-f38dcc80e32b"
      },
      "outputs": [
        {
          "data": {
            "text/plain": [
              "CRIM       0\n",
              "ZN         0\n",
              "INDUS      0\n",
              "CHAS       0\n",
              "NOX        0\n",
              "RM         0\n",
              "AGE        0\n",
              "DIS        0\n",
              "RAD        0\n",
              "TAX        0\n",
              "PTRATIO    0\n",
              "B          0\n",
              "LSTAT      0\n",
              "PRICE      0\n",
              "dtype: int64"
            ]
          },
          "execution_count": 12,
          "metadata": {},
          "output_type": "execute_result"
        }
      ],
      "source": [
        "# Check for missing values\n",
        "df.isnull().sum()"
      ]
    },
    {
      "cell_type": "code",
      "execution_count": null,
      "metadata": {
        "_uuid": "9d77b2f0e188a0bad15574340c61fad981a571b5",
        "id": "oemse8SOJDmx",
        "outputId": "f815f915-ba07-4238-93bd-5b5bf0236209"
      },
      "outputs": [
        {
          "data": {
            "text/html": [
              "<div>\n",
              "<style scoped>\n",
              "    .dataframe tbody tr th:only-of-type {\n",
              "        vertical-align: middle;\n",
              "    }\n",
              "\n",
              "    .dataframe tbody tr th {\n",
              "        vertical-align: top;\n",
              "    }\n",
              "\n",
              "    .dataframe thead th {\n",
              "        text-align: right;\n",
              "    }\n",
              "</style>\n",
              "<table border=\"1\" class=\"dataframe\">\n",
              "  <thead>\n",
              "    <tr style=\"text-align: right;\">\n",
              "      <th></th>\n",
              "      <th>CRIM</th>\n",
              "      <th>ZN</th>\n",
              "      <th>INDUS</th>\n",
              "      <th>CHAS</th>\n",
              "      <th>NOX</th>\n",
              "      <th>RM</th>\n",
              "      <th>AGE</th>\n",
              "      <th>DIS</th>\n",
              "      <th>RAD</th>\n",
              "      <th>TAX</th>\n",
              "      <th>PTRATIO</th>\n",
              "      <th>B</th>\n",
              "      <th>LSTAT</th>\n",
              "      <th>PRICE</th>\n",
              "    </tr>\n",
              "  </thead>\n",
              "  <tbody>\n",
              "  </tbody>\n",
              "</table>\n",
              "</div>"
            ],
            "text/plain": [
              "Empty DataFrame\n",
              "Columns: [CRIM, ZN, INDUS, CHAS, NOX, RM, AGE, DIS, RAD, TAX, PTRATIO, B, LSTAT, PRICE]\n",
              "Index: []"
            ]
          },
          "execution_count": 13,
          "metadata": {},
          "output_type": "execute_result"
        }
      ],
      "source": [
        "# See rows with missing values\n",
        "df[df.isnull().any(axis=1)]"
      ]
    },
    {
      "cell_type": "code",
      "execution_count": null,
      "metadata": {
        "_uuid": "fd9f1bad153f453931265ca2c2662a138a6737b3",
        "scrolled": true,
        "id": "IvOZVfYFJDmy",
        "outputId": "7049c5fd-f04c-497d-94f7-bad1aed6570d"
      },
      "outputs": [
        {
          "data": {
            "text/html": [
              "<div>\n",
              "<style scoped>\n",
              "    .dataframe tbody tr th:only-of-type {\n",
              "        vertical-align: middle;\n",
              "    }\n",
              "\n",
              "    .dataframe tbody tr th {\n",
              "        vertical-align: top;\n",
              "    }\n",
              "\n",
              "    .dataframe thead th {\n",
              "        text-align: right;\n",
              "    }\n",
              "</style>\n",
              "<table border=\"1\" class=\"dataframe\">\n",
              "  <thead>\n",
              "    <tr style=\"text-align: right;\">\n",
              "      <th></th>\n",
              "      <th>CRIM</th>\n",
              "      <th>ZN</th>\n",
              "      <th>INDUS</th>\n",
              "      <th>CHAS</th>\n",
              "      <th>NOX</th>\n",
              "      <th>RM</th>\n",
              "      <th>AGE</th>\n",
              "      <th>DIS</th>\n",
              "      <th>RAD</th>\n",
              "      <th>TAX</th>\n",
              "      <th>PTRATIO</th>\n",
              "      <th>B</th>\n",
              "      <th>LSTAT</th>\n",
              "      <th>PRICE</th>\n",
              "    </tr>\n",
              "  </thead>\n",
              "  <tbody>\n",
              "    <tr>\n",
              "      <th>count</th>\n",
              "      <td>506.000000</td>\n",
              "      <td>506.000000</td>\n",
              "      <td>506.000000</td>\n",
              "      <td>506.000000</td>\n",
              "      <td>506.000000</td>\n",
              "      <td>506.000000</td>\n",
              "      <td>506.000000</td>\n",
              "      <td>506.000000</td>\n",
              "      <td>506.000000</td>\n",
              "      <td>506.000000</td>\n",
              "      <td>506.000000</td>\n",
              "      <td>506.000000</td>\n",
              "      <td>506.000000</td>\n",
              "      <td>506.000000</td>\n",
              "    </tr>\n",
              "    <tr>\n",
              "      <th>mean</th>\n",
              "      <td>3.613524</td>\n",
              "      <td>11.363636</td>\n",
              "      <td>11.136779</td>\n",
              "      <td>0.069170</td>\n",
              "      <td>0.554695</td>\n",
              "      <td>6.284634</td>\n",
              "      <td>68.574901</td>\n",
              "      <td>3.795043</td>\n",
              "      <td>9.549407</td>\n",
              "      <td>408.237154</td>\n",
              "      <td>18.455534</td>\n",
              "      <td>356.674032</td>\n",
              "      <td>12.653063</td>\n",
              "      <td>22.532806</td>\n",
              "    </tr>\n",
              "    <tr>\n",
              "      <th>std</th>\n",
              "      <td>8.601545</td>\n",
              "      <td>23.322453</td>\n",
              "      <td>6.860353</td>\n",
              "      <td>0.253994</td>\n",
              "      <td>0.115878</td>\n",
              "      <td>0.702617</td>\n",
              "      <td>28.148861</td>\n",
              "      <td>2.105710</td>\n",
              "      <td>8.707259</td>\n",
              "      <td>168.537116</td>\n",
              "      <td>2.164946</td>\n",
              "      <td>91.294864</td>\n",
              "      <td>7.141062</td>\n",
              "      <td>9.197104</td>\n",
              "    </tr>\n",
              "    <tr>\n",
              "      <th>min</th>\n",
              "      <td>0.006320</td>\n",
              "      <td>0.000000</td>\n",
              "      <td>0.460000</td>\n",
              "      <td>0.000000</td>\n",
              "      <td>0.385000</td>\n",
              "      <td>3.561000</td>\n",
              "      <td>2.900000</td>\n",
              "      <td>1.129600</td>\n",
              "      <td>1.000000</td>\n",
              "      <td>187.000000</td>\n",
              "      <td>12.600000</td>\n",
              "      <td>0.320000</td>\n",
              "      <td>1.730000</td>\n",
              "      <td>5.000000</td>\n",
              "    </tr>\n",
              "    <tr>\n",
              "      <th>25%</th>\n",
              "      <td>0.082045</td>\n",
              "      <td>0.000000</td>\n",
              "      <td>5.190000</td>\n",
              "      <td>0.000000</td>\n",
              "      <td>0.449000</td>\n",
              "      <td>5.885500</td>\n",
              "      <td>45.025000</td>\n",
              "      <td>2.100175</td>\n",
              "      <td>4.000000</td>\n",
              "      <td>279.000000</td>\n",
              "      <td>17.400000</td>\n",
              "      <td>375.377500</td>\n",
              "      <td>6.950000</td>\n",
              "      <td>17.025000</td>\n",
              "    </tr>\n",
              "    <tr>\n",
              "      <th>50%</th>\n",
              "      <td>0.256510</td>\n",
              "      <td>0.000000</td>\n",
              "      <td>9.690000</td>\n",
              "      <td>0.000000</td>\n",
              "      <td>0.538000</td>\n",
              "      <td>6.208500</td>\n",
              "      <td>77.500000</td>\n",
              "      <td>3.207450</td>\n",
              "      <td>5.000000</td>\n",
              "      <td>330.000000</td>\n",
              "      <td>19.050000</td>\n",
              "      <td>391.440000</td>\n",
              "      <td>11.360000</td>\n",
              "      <td>21.200000</td>\n",
              "    </tr>\n",
              "    <tr>\n",
              "      <th>75%</th>\n",
              "      <td>3.677083</td>\n",
              "      <td>12.500000</td>\n",
              "      <td>18.100000</td>\n",
              "      <td>0.000000</td>\n",
              "      <td>0.624000</td>\n",
              "      <td>6.623500</td>\n",
              "      <td>94.075000</td>\n",
              "      <td>5.188425</td>\n",
              "      <td>24.000000</td>\n",
              "      <td>666.000000</td>\n",
              "      <td>20.200000</td>\n",
              "      <td>396.225000</td>\n",
              "      <td>16.955000</td>\n",
              "      <td>25.000000</td>\n",
              "    </tr>\n",
              "    <tr>\n",
              "      <th>max</th>\n",
              "      <td>88.976200</td>\n",
              "      <td>100.000000</td>\n",
              "      <td>27.740000</td>\n",
              "      <td>1.000000</td>\n",
              "      <td>0.871000</td>\n",
              "      <td>8.780000</td>\n",
              "      <td>100.000000</td>\n",
              "      <td>12.126500</td>\n",
              "      <td>24.000000</td>\n",
              "      <td>711.000000</td>\n",
              "      <td>22.000000</td>\n",
              "      <td>396.900000</td>\n",
              "      <td>37.970000</td>\n",
              "      <td>50.000000</td>\n",
              "    </tr>\n",
              "  </tbody>\n",
              "</table>\n",
              "</div>"
            ],
            "text/plain": [
              "             CRIM          ZN       INDUS        CHAS         NOX          RM  \\\n",
              "count  506.000000  506.000000  506.000000  506.000000  506.000000  506.000000   \n",
              "mean     3.613524   11.363636   11.136779    0.069170    0.554695    6.284634   \n",
              "std      8.601545   23.322453    6.860353    0.253994    0.115878    0.702617   \n",
              "min      0.006320    0.000000    0.460000    0.000000    0.385000    3.561000   \n",
              "25%      0.082045    0.000000    5.190000    0.000000    0.449000    5.885500   \n",
              "50%      0.256510    0.000000    9.690000    0.000000    0.538000    6.208500   \n",
              "75%      3.677083   12.500000   18.100000    0.000000    0.624000    6.623500   \n",
              "max     88.976200  100.000000   27.740000    1.000000    0.871000    8.780000   \n",
              "\n",
              "              AGE         DIS         RAD         TAX     PTRATIO           B  \\\n",
              "count  506.000000  506.000000  506.000000  506.000000  506.000000  506.000000   \n",
              "mean    68.574901    3.795043    9.549407  408.237154   18.455534  356.674032   \n",
              "std     28.148861    2.105710    8.707259  168.537116    2.164946   91.294864   \n",
              "min      2.900000    1.129600    1.000000  187.000000   12.600000    0.320000   \n",
              "25%     45.025000    2.100175    4.000000  279.000000   17.400000  375.377500   \n",
              "50%     77.500000    3.207450    5.000000  330.000000   19.050000  391.440000   \n",
              "75%     94.075000    5.188425   24.000000  666.000000   20.200000  396.225000   \n",
              "max    100.000000   12.126500   24.000000  711.000000   22.000000  396.900000   \n",
              "\n",
              "            LSTAT       PRICE  \n",
              "count  506.000000  506.000000  \n",
              "mean    12.653063   22.532806  \n",
              "std      7.141062    9.197104  \n",
              "min      1.730000    5.000000  \n",
              "25%      6.950000   17.025000  \n",
              "50%     11.360000   21.200000  \n",
              "75%     16.955000   25.000000  \n",
              "max     37.970000   50.000000  "
            ]
          },
          "execution_count": 14,
          "metadata": {},
          "output_type": "execute_result"
        }
      ],
      "source": [
        "# Check data statistics\n",
        "df.describe()"
      ]
    },
    {
      "cell_type": "code",
      "execution_count": null,
      "metadata": {
        "_uuid": "f35fcf15ca8787f7c2b27c9567e02bec12dd8232",
        "id": "lcgAGmH9JDmz",
        "outputId": "1b59d8b9-20eb-44b9-ea92-3451a32e5fa7"
      },
      "outputs": [
        {
          "data": {
            "text/plain": [
              "(14, 14)"
            ]
          },
          "execution_count": 15,
          "metadata": {},
          "output_type": "execute_result"
        }
      ],
      "source": [
        "# Finding out the correlation between the features\n",
        "corr = df.corr()\n",
        "corr.shape"
      ]
    },
    {
      "cell_type": "code",
      "execution_count": null,
      "metadata": {
        "_uuid": "5a2f669e42f1c4da0678d3012fe90996ce8dc476",
        "id": "KWYdWMKPJDm1",
        "outputId": "d8088ec8-c1b5-43b2-c256-d03c4fd26769"
      },
      "outputs": [
        {
          "data": {
            "image/png": "[encoded data removed]",
            "text/plain": [
              "<Figure size 864x864 with 2 Axes>"
            ]
          },
          "metadata": {},
          "output_type": "display_data"
        }
      ],
      "source": [
        "# Plotting the heatmap of correlation between features\n",
        "mask = np.zeros_like(df.corr())\n",
        "mask[np.triu_indices_from(mask)]=True\n",
        "\n",
        "plt.figure(figsize=(12,12))\n",
        "sns.heatmap(corr, cbar=True, square=True, fmt='.1f', annot=True, annot_kws={'size':15}, cmap='viridis', mask=mask, center=0);"
      ]
    },
    {
      "cell_type": "code",
      "execution_count": null,
      "metadata": {
        "_uuid": "e8b29232f337d8d269fdeab876ecf1b6cf692556",
        "scrolled": true,
        "id": "Ewg69qv6JDm2"
      },
      "outputs": [],
      "source": [
        "# Spliting target variable and independent variables\n",
        "X = df.drop(['PRICE'], axis = 1)\n",
        "y = df['PRICE']"
      ]
    },
    {
      "cell_type": "code",
      "execution_count": null,
      "metadata": {
        "_uuid": "8c44aa7df1ef21f85c1baba09dbb5807c223c51a",
        "id": "qvf7oQ49JDm4"
      },
      "outputs": [],
      "source": [
        "# Splitting to training and testing data\n",
        "from sklearn.model_selection import train_test_split\n",
        "\n",
        "X_train, X_test, y_train, y_test = train_test_split(X, y, test_size = 0.3, random_state = 4)"
      ]
    },
    {
      "cell_type": "markdown",
      "metadata": {
        "_uuid": "af76da42b96f93ae8bd6234053182ecee90f255e",
        "id": "vQPN0QUtJDm4"
      },
      "source": [
        "# Linear regression"
      ]
    },
    {
      "cell_type": "markdown",
      "metadata": {
        "_uuid": "f585ceafa562d74250058bf0ff05cdf8ccebb577",
        "id": "mFrgacZuJDm5"
      },
      "source": [
        "#### Training the model"
      ]
    },
    {
      "cell_type": "code",
      "execution_count": null,
      "metadata": {
        "_uuid": "74c1df4cd4ba074712c8fe65802acc568e0b6ba9",
        "scrolled": true,
        "id": "7FC0_PEKJDm5",
        "outputId": "25c9f430-aa49-4889-aac0-97ababaf9c0a"
      },
      "outputs": [
        {
          "data": {
            "text/plain": [
              "LinearRegression()"
            ]
          },
          "execution_count": 43,
          "metadata": {},
          "output_type": "execute_result"
        }
      ],
      "source": [
        "# Import library for Linear Regression\n",
        "from sklearn.linear_model import LinearRegression\n",
        "\n",
        "# Create a Linear regressor\n",
        "lm = LinearRegression()\n",
        "\n",
        "# Train the model using the training sets\n",
        "lm.fit(X_train, y_train)"
      ]
    },
    {
      "cell_type": "code",
      "execution_count": null,
      "metadata": {
        "_uuid": "998fb3c39c9a86eb1bcd4d921dd183a6491335d7",
        "id": "wxPbb2BBJDm6",
        "outputId": "dad2ee17-33b8-4ac8-8a40-fd390ea0626e"
      },
      "outputs": [
        {
          "data": {
            "text/plain": [
              "36.35704137659499"
            ]
          },
          "execution_count": 44,
          "metadata": {},
          "output_type": "execute_result"
        }
      ],
      "source": [
        "# Value of y intercept\n",
        "lm.intercept_"
      ]
    },
    {
      "cell_type": "code",
      "execution_count": null,
      "metadata": {
        "_uuid": "014c51bc46bb492a44f253c3c04e113ddbc39af6",
        "scrolled": false,
        "id": "XCoJDLoLJDm7",
        "outputId": "f18f89e3-17f5-4425-bd79-f7a1c1acaf8b"
      },
      "outputs": [
        {
          "data": {
            "text/html": [
              "<div>\n",
              "<style scoped>\n",
              "    .dataframe tbody tr th:only-of-type {\n",
              "        vertical-align: middle;\n",
              "    }\n",
              "\n",
              "    .dataframe tbody tr th {\n",
              "        vertical-align: top;\n",
              "    }\n",
              "\n",
              "    .dataframe thead th {\n",
              "        text-align: right;\n",
              "    }\n",
              "</style>\n",
              "<table border=\"1\" class=\"dataframe\">\n",
              "  <thead>\n",
              "    <tr style=\"text-align: right;\">\n",
              "      <th></th>\n",
              "      <th>Attribute</th>\n",
              "      <th>Coefficients</th>\n",
              "    </tr>\n",
              "  </thead>\n",
              "  <tbody>\n",
              "    <tr>\n",
              "      <th>0</th>\n",
              "      <td>CRIM</td>\n",
              "      <td>-0.12257</td>\n",
              "    </tr>\n",
              "    <tr>\n",
              "      <th>1</th>\n",
              "      <td>ZN</td>\n",
              "      <td>0.0556777</td>\n",
              "    </tr>\n",
              "    <tr>\n",
              "      <th>2</th>\n",
              "      <td>INDUS</td>\n",
              "      <td>-0.00883428</td>\n",
              "    </tr>\n",
              "    <tr>\n",
              "      <th>3</th>\n",
              "      <td>CHAS</td>\n",
              "      <td>4.69345</td>\n",
              "    </tr>\n",
              "    <tr>\n",
              "      <th>4</th>\n",
              "      <td>NOX</td>\n",
              "      <td>-14.4358</td>\n",
              "    </tr>\n",
              "    <tr>\n",
              "      <th>5</th>\n",
              "      <td>RM</td>\n",
              "      <td>3.28008</td>\n",
              "    </tr>\n",
              "    <tr>\n",
              "      <th>6</th>\n",
              "      <td>AGE</td>\n",
              "      <td>-0.00344778</td>\n",
              "    </tr>\n",
              "    <tr>\n",
              "      <th>7</th>\n",
              "      <td>DIS</td>\n",
              "      <td>-1.55214</td>\n",
              "    </tr>\n",
              "    <tr>\n",
              "      <th>8</th>\n",
              "      <td>RAD</td>\n",
              "      <td>0.32625</td>\n",
              "    </tr>\n",
              "    <tr>\n",
              "      <th>9</th>\n",
              "      <td>TAX</td>\n",
              "      <td>-0.0140666</td>\n",
              "    </tr>\n",
              "    <tr>\n",
              "      <th>10</th>\n",
              "      <td>PTRATIO</td>\n",
              "      <td>-0.803275</td>\n",
              "    </tr>\n",
              "    <tr>\n",
              "      <th>11</th>\n",
              "      <td>B</td>\n",
              "      <td>0.00935369</td>\n",
              "    </tr>\n",
              "    <tr>\n",
              "      <th>12</th>\n",
              "      <td>LSTAT</td>\n",
              "      <td>-0.523478</td>\n",
              "    </tr>\n",
              "  </tbody>\n",
              "</table>\n",
              "</div>"
            ],
            "text/plain": [
              "   Attribute Coefficients\n",
              "0       CRIM     -0.12257\n",
              "1         ZN    0.0556777\n",
              "2      INDUS  -0.00883428\n",
              "3       CHAS      4.69345\n",
              "4        NOX     -14.4358\n",
              "5         RM      3.28008\n",
              "6        AGE  -0.00344778\n",
              "7        DIS     -1.55214\n",
              "8        RAD      0.32625\n",
              "9        TAX   -0.0140666\n",
              "10   PTRATIO    -0.803275\n",
              "11         B   0.00935369\n",
              "12     LSTAT    -0.523478"
            ]
          },
          "execution_count": 45,
          "metadata": {},
          "output_type": "execute_result"
        }
      ],
      "source": [
        "# Converting the coefficient values to a dataframe\n",
        "coeffcients = pd.DataFrame([X_train.columns, lm.coef_]).T\n",
        "coeffcients = coeffcients.rename(columns={0: 'Attribute', 1: 'Coefficients'})\n",
        "coeffcients"
      ]
    },
    {
      "cell_type": "markdown",
      "metadata": {
        "_uuid": "0a51c9fddb34d1d64b08a1ae5b52a0fa5de220c2",
        "id": "T0NIwOVrJDm8"
      },
      "source": [
        "#### Model Evaluation"
      ]
    },
    {
      "cell_type": "code",
      "execution_count": null,
      "metadata": {
        "_uuid": "fbf88954f6ea78c339dfd4d1bbb4731fe1b3c489",
        "id": "czNc7xsCJDm9"
      },
      "outputs": [],
      "source": [
        "# Model prediction on train data\n",
        "y_pred = lm.predict(X_train)"
      ]
    },
    {
      "cell_type": "code",
      "execution_count": null,
      "metadata": {
        "_uuid": "40c2d862d0798c825949e665b23a0d93e7acbf22",
        "scrolled": true,
        "id": "kUgLCVp9JDm9",
        "outputId": "2c3e56ca-9e9e-46f5-be97-c9dcb64b2daf"
      },
      "outputs": [
        {
          "name": "stdout",
          "output_type": "stream",
          "text": [
            "R^2: 0.7465991966746854\n",
            "Adjusted R^2: 0.736910342429894\n",
            "MAE: 3.0898610949711247\n",
            "MSE: 19.07368870346903\n",
            "RMSE: 4.367343437774162\n"
          ]
        }
      ],
      "source": [
        "# Model Evaluation\n",
        "print('R^2:',metrics.r2_score(y_train, y_pred))\n",
        "print('Adjusted R^2:', 1 - (1-metrics.r2_score(y_train, y_pred))*(len(y_train)-1)/(len(y_train)-X_train.shape[1]-1))\n",
        "print('MAE:', metrics.mean_absolute_error(y_train, y_pred))\n",
        "print('MSE:', metrics.mean_squared_error(y_train, y_pred))\n",
        "print('RMSE:', np.sqrt(metrics.mean_squared_error(y_train, y_pred)))"
      ]
    },
    {
      "cell_type": "markdown",
      "metadata": {
        "_uuid": "e7eceb24e150551eff5f3c946772437ffcfdce8d",
        "id": "WZtq_FgBJDm-"
      },
      "source": [
        "**𝑅^2:** Ukuran hubungan linear antara X dan y. R-squared diinterpretasikan sebagai proporsi variance variablel dependen yang dapat digambarkan oleh variabel independen.\n",
        "\n",
        "**Adjusted 𝑅^2:** Adjusted R-squared membandingkan explanatory power dari model regresi yang mengandung beberapa prediktor/variabel independen.\n",
        "\n",
        "**MAE:** Mean of the absolute value of the errors. Mengukur rata-rata perbedaan/selisih antara y aktual dan y prediksi berdasarkan nilai absolut dari selisih tersebut.\n",
        "\n",
        "**MSE:** Mean square error. Sama seperti MAE, tetapi selisih antara y aktual dan y prediksi dikuadratkan terlebih dahulu sebelum dijumlahkan dan dirata-ratakan.\n",
        "\n",
        "**RMSE:** Hasil akar dari MSE. Biasa digunakan untuk interpretasi hasil."
      ]
    },
    {
      "cell_type": "code",
      "execution_count": null,
      "metadata": {
        "_uuid": "c00f457edc850676c7ac951f2a77994bc798f709",
        "id": "Mld8UeFMJDm-",
        "outputId": "9ec472a9-fecf-4ff3-a3af-7e787bf01dfe"
      },
      "outputs": [
        {
          "data": {
            "image/png": "[encoded data removed]",
            "text/plain": [
              "<Figure size 432x288 with 1 Axes>"
            ]
          },
          "metadata": {},
          "output_type": "display_data"
        }
      ],
      "source": [
        "# Visualizing the differences between actual prices and predicted values\n",
        "sns.set(style='whitegrid', palette='Set2')\n",
        "plt.scatter(y_train, y_pred)\n",
        "plt.xlabel('Prices')\n",
        "plt.ylabel('Predicted prices')\n",
        "plt.title('Prices vs Predicted prices');"
      ]
    },
    {
      "cell_type": "markdown",
      "metadata": {
        "id": "1swceTNWJDm_"
      },
      "source": [
        "### **Interpretasi**\n",
        "\n",
        "Dari plot di atas, terlihat bahwa nilai prediksi cenderung lebih kecil dari nilai aktualnya."
      ]
    },
    {
      "cell_type": "code",
      "execution_count": null,
      "metadata": {
        "_uuid": "65b07c5f88bbc8863b56057568bb09443484d806",
        "id": "ofckw3GJJDm_",
        "outputId": "1578e99a-9371-4473-c094-305ff4617e50"
      },
      "outputs": [
        {
          "data": {
            "image/png": "[encoded data removed]",
            "text/plain": [
              "<Figure size 432x288 with 1 Axes>"
            ]
          },
          "metadata": {},
          "output_type": "display_data"
        }
      ],
      "source": [
        "# Checking residuals\n",
        "plt.scatter(y_pred, y_train-y_pred)\n",
        "plt.title('Predicted vs residuals')\n",
        "plt.xlabel('Predicted')\n",
        "plt.ylabel('Residuals');"
      ]
    },
    {
      "cell_type": "markdown",
      "metadata": {
        "_uuid": "c399b5c2f66818caf7600c0f10338c0ce5afebc8",
        "id": "rMz5MdRRJDm_"
      },
      "source": [
        "### **Interpretasi**\n",
        "\n",
        "Tidak ada pola yang jelas pada plot di atas dan values secara umum terdistribusi di sekitar 0. Dari hasil ini, asumsi normalitas dapat dikatakan terpenuhi."
      ]
    },
    {
      "cell_type": "code",
      "execution_count": null,
      "metadata": {
        "_uuid": "9814045d0aaa99146a32653f4e5449a11b05ff8f",
        "id": "wywshnpoJDnA",
        "outputId": "7b34c249-c826-49a5-a3e5-64d2e05b456c"
      },
      "outputs": [
        {
          "data": {
            "image/png": "[encoded data removed]",
            "text/plain": [
              "<Figure size 432x288 with 1 Axes>"
            ]
          },
          "metadata": {},
          "output_type": "display_data"
        }
      ],
      "source": [
        "# Checking Normality of errors\n",
        "sns.distplot(y_train-y_pred)\n",
        "plt.title('Histogram of Residuals')\n",
        "plt.xlabel('Residuals')\n",
        "plt.ylabel('Frequency');"
      ]
    },
    {
      "cell_type": "markdown",
      "metadata": {
        "_uuid": "1d767c0ab0732c66838be5aecf56f23f859c1021",
        "id": "L_K-8r1AJDnB"
      },
      "source": [
        "Jika divalidasi dengan menggunakan histogram, dapat dilihat bahwa residuals terdistribusi mendekati distribusi normal. Jadi, asumsi normalitas pada residuals terpenuhi."
      ]
    },
    {
      "cell_type": "markdown",
      "metadata": {
        "_uuid": "a91b3c5ee714c81642b90d02760c7e10f827fd48",
        "id": "ru9NRaLVJDnC"
      },
      "source": [
        "#### For test data"
      ]
    },
    {
      "cell_type": "code",
      "execution_count": null,
      "metadata": {
        "_uuid": "d1c22569bf33b54bc8e67dd9768beeb48520c5f0",
        "id": "WiCjRLxKJDnC"
      },
      "outputs": [],
      "source": [
        "# Predicting Test data with the model\n",
        "y_test_pred = lm.predict(X_test)"
      ]
    },
    {
      "cell_type": "markdown",
      "metadata": {
        "id": "YzZNgJIMJDnD"
      },
      "source": [
        "!['AdjR2](data:image/png;base64,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)"
      ]
    },
    {
      "cell_type": "code",
      "execution_count": null,
      "metadata": {
        "_uuid": "5bd7bf701f57b013f7b4bb3ee30debdf216647f6",
        "id": "LXGkV1WzJDnH",
        "outputId": "9a5ec939-54cc-4d4d-82d5-8681638175f9"
      },
      "outputs": [
        {
          "name": "stdout",
          "output_type": "stream",
          "text": [
            "R^2: 0.7121818377409194\n",
            "Adjusted R^2: 0.6850685326005712\n",
            "MAE: 3.859005592370744\n",
            "MSE: 30.053993307124145\n",
            "RMSE: 5.482152251362976\n"
          ]
        }
      ],
      "source": [
        "# Model Evaluation\n",
        "acc_linreg = metrics.r2_score(y_test, y_test_pred)\n",
        "print('R^2:', acc_linreg)\n",
        "print('Adjusted R^2:', 1 - (1-metrics.r2_score(y_test, y_test_pred))*(len(y_test)-1)/(len(y_test)-X_test.shape[1]-1))\n",
        "print('MAE:', metrics.mean_absolute_error(y_test, y_test_pred))\n",
        "print('MSE:', metrics.mean_squared_error(y_test, y_test_pred))\n",
        "print('RMSE:', np.sqrt(metrics.mean_squared_error(y_test, y_test_pred)))"
      ]
    },
    {
      "cell_type": "markdown",
      "metadata": {
        "_uuid": "e7a9ed698fd4f011bae24ce4b966317de91f9d91",
        "id": "9SxlkJNsJDnH"
      },
      "source": [
        "### **Interpretasi**\n",
        "\n",
        "Dari hasil pengujian menggunakan test data, nilai evaluasi model tidak terpaut jauh dengan hasil pada train data. Dapat dikatakan bahwa model tidak mengalami overfitting."
      ]
    },
    {
      "cell_type": "markdown",
      "metadata": {
        "id": "SB59gp4IJDnI"
      },
      "source": [
        "## **Polynomial Regression**"
      ]
    },
    {
      "cell_type": "code",
      "execution_count": null,
      "metadata": {
        "id": "tAhx0oawJDnJ"
      },
      "outputs": [],
      "source": [
        "from sklearn.preprocessing import PolynomialFeatures"
      ]
    },
    {
      "cell_type": "code",
      "execution_count": null,
      "metadata": {
        "id": "xjWW4nWnJDnM"
      },
      "outputs": [],
      "source": [
        "# Fit and transform polynomial\n",
        "poly = PolynomialFeatures(degree = 2, interaction_only=False, include_bias=False)\n",
        "poly.fit(X_train)\n",
        "\n",
        "X_train_poly = poly.transform(X_train)\n",
        "X_test_poly = poly.transform(X_test)"
      ]
    },
    {
      "cell_type": "code",
      "execution_count": null,
      "metadata": {
        "id": "wXQKwtZ5JDnN",
        "outputId": "42c0a334-4fa3-414d-a4a7-963c1e9532de"
      },
      "outputs": [
        {
          "data": {
            "text/html": [
              "<div>\n",
              "<style scoped>\n",
              "    .dataframe tbody tr th:only-of-type {\n",
              "        vertical-align: middle;\n",
              "    }\n",
              "\n",
              "    .dataframe tbody tr th {\n",
              "        vertical-align: top;\n",
              "    }\n",
              "\n",
              "    .dataframe thead th {\n",
              "        text-align: right;\n",
              "    }\n",
              "</style>\n",
              "<table border=\"1\" class=\"dataframe\">\n",
              "  <thead>\n",
              "    <tr style=\"text-align: right;\">\n",
              "      <th></th>\n",
              "      <th>x0</th>\n",
              "      <th>x1</th>\n",
              "      <th>x2</th>\n",
              "      <th>x3</th>\n",
              "      <th>x4</th>\n",
              "      <th>x5</th>\n",
              "      <th>x6</th>\n",
              "      <th>x7</th>\n",
              "      <th>x8</th>\n",
              "      <th>x9</th>\n",
              "      <th>...</th>\n",
              "      <th>x9^2</th>\n",
              "      <th>x9 x10</th>\n",
              "      <th>x9 x11</th>\n",
              "      <th>x9 x12</th>\n",
              "      <th>x10^2</th>\n",
              "      <th>x10 x11</th>\n",
              "      <th>x10 x12</th>\n",
              "      <th>x11^2</th>\n",
              "      <th>x11 x12</th>\n",
              "      <th>x12^2</th>\n",
              "    </tr>\n",
              "  </thead>\n",
              "  <tbody>\n",
              "    <tr>\n",
              "      <th>0</th>\n",
              "      <td>0.05059</td>\n",
              "      <td>0.0</td>\n",
              "      <td>4.49</td>\n",
              "      <td>0.0</td>\n",
              "      <td>0.449</td>\n",
              "      <td>6.389</td>\n",
              "      <td>48.0</td>\n",
              "      <td>4.7794</td>\n",
              "      <td>3.0</td>\n",
              "      <td>247.0</td>\n",
              "      <td>...</td>\n",
              "      <td>61009.0</td>\n",
              "      <td>4569.5</td>\n",
              "      <td>98034.30</td>\n",
              "      <td>2376.14</td>\n",
              "      <td>342.25</td>\n",
              "      <td>7342.650</td>\n",
              "      <td>177.970</td>\n",
              "      <td>157529.6100</td>\n",
              "      <td>3818.1780</td>\n",
              "      <td>92.5444</td>\n",
              "    </tr>\n",
              "    <tr>\n",
              "      <th>1</th>\n",
              "      <td>0.04301</td>\n",
              "      <td>80.0</td>\n",
              "      <td>1.91</td>\n",
              "      <td>0.0</td>\n",
              "      <td>0.413</td>\n",
              "      <td>5.663</td>\n",
              "      <td>21.9</td>\n",
              "      <td>10.5857</td>\n",
              "      <td>4.0</td>\n",
              "      <td>334.0</td>\n",
              "      <td>...</td>\n",
              "      <td>111556.0</td>\n",
              "      <td>7348.0</td>\n",
              "      <td>127855.20</td>\n",
              "      <td>2688.70</td>\n",
              "      <td>484.00</td>\n",
              "      <td>8421.600</td>\n",
              "      <td>177.100</td>\n",
              "      <td>146535.8400</td>\n",
              "      <td>3081.5400</td>\n",
              "      <td>64.8025</td>\n",
              "    </tr>\n",
              "    <tr>\n",
              "      <th>2</th>\n",
              "      <td>0.40771</td>\n",
              "      <td>0.0</td>\n",
              "      <td>6.20</td>\n",
              "      <td>1.0</td>\n",
              "      <td>0.507</td>\n",
              "      <td>6.164</td>\n",
              "      <td>91.3</td>\n",
              "      <td>3.0480</td>\n",
              "      <td>8.0</td>\n",
              "      <td>307.0</td>\n",
              "      <td>...</td>\n",
              "      <td>94249.0</td>\n",
              "      <td>5341.8</td>\n",
              "      <td>121338.68</td>\n",
              "      <td>6588.22</td>\n",
              "      <td>302.76</td>\n",
              "      <td>6877.176</td>\n",
              "      <td>373.404</td>\n",
              "      <td>156214.6576</td>\n",
              "      <td>8481.8504</td>\n",
              "      <td>460.5316</td>\n",
              "    </tr>\n",
              "    <tr>\n",
              "      <th>3</th>\n",
              "      <td>1.61282</td>\n",
              "      <td>0.0</td>\n",
              "      <td>8.14</td>\n",
              "      <td>0.0</td>\n",
              "      <td>0.538</td>\n",
              "      <td>6.096</td>\n",
              "      <td>96.9</td>\n",
              "      <td>3.7598</td>\n",
              "      <td>4.0</td>\n",
              "      <td>307.0</td>\n",
              "      <td>...</td>\n",
              "      <td>94249.0</td>\n",
              "      <td>6447.0</td>\n",
              "      <td>76231.17</td>\n",
              "      <td>6244.38</td>\n",
              "      <td>441.00</td>\n",
              "      <td>5214.510</td>\n",
              "      <td>427.140</td>\n",
              "      <td>61657.8561</td>\n",
              "      <td>5050.6254</td>\n",
              "      <td>413.7156</td>\n",
              "    </tr>\n",
              "    <tr>\n",
              "      <th>4</th>\n",
              "      <td>0.57834</td>\n",
              "      <td>20.0</td>\n",
              "      <td>3.97</td>\n",
              "      <td>0.0</td>\n",
              "      <td>0.575</td>\n",
              "      <td>8.297</td>\n",
              "      <td>67.0</td>\n",
              "      <td>2.4216</td>\n",
              "      <td>5.0</td>\n",
              "      <td>264.0</td>\n",
              "      <td>...</td>\n",
              "      <td>69696.0</td>\n",
              "      <td>3432.0</td>\n",
              "      <td>101518.56</td>\n",
              "      <td>1964.16</td>\n",
              "      <td>169.00</td>\n",
              "      <td>4999.020</td>\n",
              "      <td>96.720</td>\n",
              "      <td>147871.0116</td>\n",
              "      <td>2860.9776</td>\n",
              "      <td>55.3536</td>\n",
              "    </tr>\n",
              "    <tr>\n",
              "      <th>...</th>\n",
              "      <td>...</td>\n",
              "      <td>...</td>\n",
              "      <td>...</td>\n",
              "      <td>...</td>\n",
              "      <td>...</td>\n",
              "      <td>...</td>\n",
              "      <td>...</td>\n",
              "      <td>...</td>\n",
              "      <td>...</td>\n",
              "      <td>...</td>\n",
              "      <td>...</td>\n",
              "      <td>...</td>\n",
              "      <td>...</td>\n",
              "      <td>...</td>\n",
              "      <td>...</td>\n",
              "      <td>...</td>\n",
              "      <td>...</td>\n",
              "      <td>...</td>\n",
              "      <td>...</td>\n",
              "      <td>...</td>\n",
              "      <td>...</td>\n",
              "    </tr>\n",
              "    <tr>\n",
              "      <th>349</th>\n",
              "      <td>16.81180</td>\n",
              "      <td>0.0</td>\n",
              "      <td>18.10</td>\n",
              "      <td>0.0</td>\n",
              "      <td>0.700</td>\n",
              "      <td>5.277</td>\n",
              "      <td>98.1</td>\n",
              "      <td>1.4261</td>\n",
              "      <td>24.0</td>\n",
              "      <td>666.0</td>\n",
              "      <td>...</td>\n",
              "      <td>443556.0</td>\n",
              "      <td>13453.2</td>\n",
              "      <td>264335.40</td>\n",
              "      <td>20519.46</td>\n",
              "      <td>408.04</td>\n",
              "      <td>8017.380</td>\n",
              "      <td>622.362</td>\n",
              "      <td>157529.6100</td>\n",
              "      <td>12228.4890</td>\n",
              "      <td>949.2561</td>\n",
              "    </tr>\n",
              "    <tr>\n",
              "      <th>350</th>\n",
              "      <td>0.04666</td>\n",
              "      <td>80.0</td>\n",
              "      <td>1.52</td>\n",
              "      <td>0.0</td>\n",
              "      <td>0.404</td>\n",
              "      <td>7.107</td>\n",
              "      <td>36.6</td>\n",
              "      <td>7.3090</td>\n",
              "      <td>2.0</td>\n",
              "      <td>329.0</td>\n",
              "      <td>...</td>\n",
              "      <td>108241.0</td>\n",
              "      <td>4145.4</td>\n",
              "      <td>116567.99</td>\n",
              "      <td>2832.69</td>\n",
              "      <td>158.76</td>\n",
              "      <td>4464.306</td>\n",
              "      <td>108.486</td>\n",
              "      <td>125535.5761</td>\n",
              "      <td>3050.6091</td>\n",
              "      <td>74.1321</td>\n",
              "    </tr>\n",
              "    <tr>\n",
              "      <th>351</th>\n",
              "      <td>9.39063</td>\n",
              "      <td>0.0</td>\n",
              "      <td>18.10</td>\n",
              "      <td>0.0</td>\n",
              "      <td>0.740</td>\n",
              "      <td>5.627</td>\n",
              "      <td>93.9</td>\n",
              "      <td>1.8172</td>\n",
              "      <td>24.0</td>\n",
              "      <td>666.0</td>\n",
              "      <td>...</td>\n",
              "      <td>443556.0</td>\n",
              "      <td>13453.2</td>\n",
              "      <td>264335.40</td>\n",
              "      <td>15238.08</td>\n",
              "      <td>408.04</td>\n",
              "      <td>8017.380</td>\n",
              "      <td>462.176</td>\n",
              "      <td>157529.6100</td>\n",
              "      <td>9081.0720</td>\n",
              "      <td>523.4944</td>\n",
              "    </tr>\n",
              "    <tr>\n",
              "      <th>352</th>\n",
              "      <td>0.08447</td>\n",
              "      <td>0.0</td>\n",
              "      <td>4.05</td>\n",
              "      <td>0.0</td>\n",
              "      <td>0.510</td>\n",
              "      <td>5.859</td>\n",
              "      <td>68.7</td>\n",
              "      <td>2.7019</td>\n",
              "      <td>5.0</td>\n",
              "      <td>296.0</td>\n",
              "      <td>...</td>\n",
              "      <td>87616.0</td>\n",
              "      <td>4913.6</td>\n",
              "      <td>116396.08</td>\n",
              "      <td>2853.44</td>\n",
              "      <td>275.56</td>\n",
              "      <td>6527.618</td>\n",
              "      <td>160.024</td>\n",
              "      <td>154629.8329</td>\n",
              "      <td>3790.7372</td>\n",
              "      <td>92.9296</td>\n",
              "    </tr>\n",
              "    <tr>\n",
              "      <th>353</th>\n",
              "      <td>0.09299</td>\n",
              "      <td>0.0</td>\n",
              "      <td>25.65</td>\n",
              "      <td>0.0</td>\n",
              "      <td>0.581</td>\n",
              "      <td>5.961</td>\n",
              "      <td>92.9</td>\n",
              "      <td>2.0869</td>\n",
              "      <td>2.0</td>\n",
              "      <td>188.0</td>\n",
              "      <td>...</td>\n",
              "      <td>35344.0</td>\n",
              "      <td>3590.8</td>\n",
              "      <td>71080.92</td>\n",
              "      <td>3370.84</td>\n",
              "      <td>364.81</td>\n",
              "      <td>7221.519</td>\n",
              "      <td>342.463</td>\n",
              "      <td>142952.0481</td>\n",
              "      <td>6779.1537</td>\n",
              "      <td>321.4849</td>\n",
              "    </tr>\n",
              "  </tbody>\n",
              "</table>\n",
              "<p>354 rows × 104 columns</p>\n",
              "</div>"
            ],
            "text/plain": [
              "           x0    x1     x2   x3     x4     x5    x6       x7    x8     x9  \\\n",
              "0     0.05059   0.0   4.49  0.0  0.449  6.389  48.0   4.7794   3.0  247.0   \n",
              "1     0.04301  80.0   1.91  0.0  0.413  5.663  21.9  10.5857   4.0  334.0   \n",
              "2     0.40771   0.0   6.20  1.0  0.507  6.164  91.3   3.0480   8.0  307.0   \n",
              "3     1.61282   0.0   8.14  0.0  0.538  6.096  96.9   3.7598   4.0  307.0   \n",
              "4     0.57834  20.0   3.97  0.0  0.575  8.297  67.0   2.4216   5.0  264.0   \n",
              "..        ...   ...    ...  ...    ...    ...   ...      ...   ...    ...   \n",
              "349  16.81180   0.0  18.10  0.0  0.700  5.277  98.1   1.4261  24.0  666.0   \n",
              "350   0.04666  80.0   1.52  0.0  0.404  7.107  36.6   7.3090   2.0  329.0   \n",
              "351   9.39063   0.0  18.10  0.0  0.740  5.627  93.9   1.8172  24.0  666.0   \n",
              "352   0.08447   0.0   4.05  0.0  0.510  5.859  68.7   2.7019   5.0  296.0   \n",
              "353   0.09299   0.0  25.65  0.0  0.581  5.961  92.9   2.0869   2.0  188.0   \n",
              "\n",
              "     ...      x9^2   x9 x10     x9 x11    x9 x12   x10^2   x10 x11  x10 x12  \\\n",
              "0    ...   61009.0   4569.5   98034.30   2376.14  342.25  7342.650  177.970   \n",
              "1    ...  111556.0   7348.0  127855.20   2688.70  484.00  8421.600  177.100   \n",
              "2    ...   94249.0   5341.8  121338.68   6588.22  302.76  6877.176  373.404   \n",
              "3    ...   94249.0   6447.0   76231.17   6244.38  441.00  5214.510  427.140   \n",
              "4    ...   69696.0   3432.0  101518.56   1964.16  169.00  4999.020   96.720   \n",
              "..   ...       ...      ...        ...       ...     ...       ...      ...   \n",
              "349  ...  443556.0  13453.2  264335.40  20519.46  408.04  8017.380  622.362   \n",
              "350  ...  108241.0   4145.4  116567.99   2832.69  158.76  4464.306  108.486   \n",
              "351  ...  443556.0  13453.2  264335.40  15238.08  408.04  8017.380  462.176   \n",
              "352  ...   87616.0   4913.6  116396.08   2853.44  275.56  6527.618  160.024   \n",
              "353  ...   35344.0   3590.8   71080.92   3370.84  364.81  7221.519  342.463   \n",
              "\n",
              "           x11^2     x11 x12     x12^2  \n",
              "0    157529.6100   3818.1780   92.5444  \n",
              "1    146535.8400   3081.5400   64.8025  \n",
              "2    156214.6576   8481.8504  460.5316  \n",
              "3     61657.8561   5050.6254  413.7156  \n",
              "4    147871.0116   2860.9776   55.3536  \n",
              "..           ...         ...       ...  \n",
              "349  157529.6100  12228.4890  949.2561  \n",
              "350  125535.5761   3050.6091   74.1321  \n",
              "351  157529.6100   9081.0720  523.4944  \n",
              "352  154629.8329   3790.7372   92.9296  \n",
              "353  142952.0481   6779.1537  321.4849  \n",
              "\n",
              "[354 rows x 104 columns]"
            ]
          },
          "execution_count": 55,
          "metadata": {},
          "output_type": "execute_result"
        }
      ],
      "source": [
        "pd.DataFrame(X_train_poly,columns = poly.get_feature_names())"
      ]
    },
    {
      "cell_type": "markdown",
      "metadata": {
        "id": "jQEsWtUrJDnO"
      },
      "source": [
        "**Karena basis dari polynomial adalah linear regression, maka kita fitting X_train_poly ke model linear regression**"
      ]
    },
    {
      "cell_type": "code",
      "execution_count": null,
      "metadata": {
        "id": "1ueUtUIPJDnO",
        "outputId": "81aa32c4-dde2-4f88-c436-168f9293ebd9"
      },
      "outputs": [
        {
          "data": {
            "text/plain": [
              "LinearRegression()"
            ]
          },
          "execution_count": 56,
          "metadata": {},
          "output_type": "execute_result"
        }
      ],
      "source": [
        "# Fitting\n",
        "lr = LinearRegression()\n",
        "lr.fit(X_train_poly, y_train)"
      ]
    },
    {
      "cell_type": "code",
      "execution_count": null,
      "metadata": {
        "id": "d-n-bx3JJDnO"
      },
      "outputs": [],
      "source": [
        "# Predict\n",
        "y_pred_poly = lr.predict(X_test_poly)"
      ]
    },
    {
      "cell_type": "code",
      "execution_count": null,
      "metadata": {
        "id": "JwrKYSRWJDnQ",
        "outputId": "e0d0db72-9cb5-4251-d0a2-be0b105051d2"
      },
      "outputs": [
        {
          "name": "stdout",
          "output_type": "stream",
          "text": [
            "R^2: 0.8581336375777151\n",
            "Adjusted R^2: 0.5442165803028719\n",
            "MAE: 2.63319906105905\n",
            "MSE: 14.813695818498969\n",
            "RMSE: 3.848856429967084\n"
          ]
        }
      ],
      "source": [
        "# Polynomial model evaluation\n",
        "acc_poly = metrics.r2_score(y_test, y_pred_poly)\n",
        "print('R^2:', acc_poly)\n",
        "print('Adjusted R^2:', 1 - (1-metrics.r2_score(y_test, y_pred_poly))*(len(y_test)-1)/(len(y_test)-X_test_poly.shape[1]-1))\n",
        "print('MAE:', metrics.mean_absolute_error(y_test, y_pred_poly))\n",
        "print('MSE:', metrics.mean_squared_error(y_test, y_pred_poly))\n",
        "print('RMSE:', np.sqrt(metrics.mean_squared_error(y_test, y_pred_poly)))"
      ]
    },
    {
      "cell_type": "code",
      "execution_count": null,
      "metadata": {
        "id": "sBSuLPKHJDnT",
        "outputId": "cbe9cc26-007f-44d6-92b1-7370bd54caba"
      },
      "outputs": [
        {
          "data": {
            "image/png": "[encoded data removed]",
            "text/plain": [
              "<Figure size 432x288 with 1 Axes>"
            ]
          },
          "metadata": {},
          "output_type": "display_data"
        }
      ],
      "source": [
        "# Visualizing the differences between actual prices and predicted values\n",
        "sns.set(style='whitegrid', palette='Set3')\n",
        "plt.scatter(y_test, y_pred_poly)\n",
        "plt.xlabel('Prices')\n",
        "plt.ylabel('Predicted prices')\n",
        "plt.title('Prices vs Predicted prices');"
      ]
    },
    {
      "cell_type": "markdown",
      "metadata": {
        "id": "f9LlWuvHJDnU"
      },
      "source": [
        "### **Interpretasi**\n",
        "\n",
        "Dari plot hasil model polynomial di atas, terlihat bahwa secara umum nilai prediksi lebih mendekati nilai aktualnya jika dibandingkan dengan hasil model linear regression order 1."
      ]
    },
    {
      "cell_type": "code",
      "execution_count": null,
      "metadata": {
        "id": "WZ94logpJDnc",
        "outputId": "a7562169-58b2-4902-c8be-e472d75053b8"
      },
      "outputs": [
        {
          "data": {
            "image/png": "[encoded data removed]",
            "text/plain": [
              "<Figure size 432x288 with 1 Axes>"
            ]
          },
          "metadata": {},
          "output_type": "display_data"
        }
      ],
      "source": [
        "# Checking residuals\n",
        "plt.scatter(y_pred_poly, y_test-y_pred_poly)\n",
        "plt.title('Predicted vs residuals')\n",
        "plt.xlabel('Predicted')\n",
        "plt.ylabel('Residuals');"
      ]
    },
    {
      "cell_type": "code",
      "execution_count": null,
      "metadata": {
        "id": "Q-UtEaxNJDnd",
        "outputId": "7c80af07-8a33-4082-df24-ce4231803964"
      },
      "outputs": [
        {
          "data": {
            "image/png": "[encoded data removed]",
            "text/plain": [
              "<Figure size 432x288 with 1 Axes>"
            ]
          },
          "metadata": {},
          "output_type": "display_data"
        }
      ],
      "source": [
        "# Checking Normality of errors\n",
        "sns.distplot(y_test-y_pred_poly)\n",
        "plt.title('Histogram of Residuals')\n",
        "plt.xlabel('Residuals')\n",
        "plt.ylabel('Frequency');"
      ]
    },
    {
      "cell_type": "code",
      "execution_count": null,
      "metadata": {
        "id": "Kls-3RxMJDne"
      },
      "outputs": [],
      "source": [
        "rmse_lr = np.sqrt(metrics.mean_squared_error(y_train, y_pred))\n",
        "rmse_poly = np.sqrt(metrics.mean_squared_error(y_test, y_pred_poly))\n",
        "\n",
        "mae_lr = metrics.mean_absolute_error(y_test, y_test_pred)\n",
        "mae_poly = metrics.mean_absolute_error(y_test, y_pred_poly)"
      ]
    },
    {
      "cell_type": "markdown",
      "metadata": {
        "id": "Uw3dWT3zJDne"
      },
      "source": [
        "### **Interpretasi**\n",
        "\n",
        "Jika hanya dilihat dari histogram, residuals terlihat terdistribusi mengikuti distribusi normal, sehingga asumsi normalitas terpenuhi."
      ]
    },
    {
      "cell_type": "markdown",
      "metadata": {
        "_uuid": "011417c6027493065c9ab2e7244ea968d32cc93b",
        "id": "L0nmB-LLJDnf"
      },
      "source": [
        "# Evaluation and comparison of all the models"
      ]
    },
    {
      "cell_type": "code",
      "execution_count": null,
      "metadata": {
        "_uuid": "57ebbecee4e34cd60bd0f03cc2f291ff52b263cc",
        "id": "f3BBddLbJDnf",
        "outputId": "77034e90-3541-404b-c96d-d28100b68b47"
      },
      "outputs": [
        {
          "data": {
            "text/html": [
              "<div>\n",
              "<style scoped>\n",
              "    .dataframe tbody tr th:only-of-type {\n",
              "        vertical-align: middle;\n",
              "    }\n",
              "\n",
              "    .dataframe tbody tr th {\n",
              "        vertical-align: top;\n",
              "    }\n",
              "\n",
              "    .dataframe thead th {\n",
              "        text-align: right;\n",
              "    }\n",
              "</style>\n",
              "<table border=\"1\" class=\"dataframe\">\n",
              "  <thead>\n",
              "    <tr style=\"text-align: right;\">\n",
              "      <th></th>\n",
              "      <th>Model</th>\n",
              "      <th>R-squared Score</th>\n",
              "      <th>RMSE</th>\n",
              "      <th>MAE</th>\n",
              "    </tr>\n",
              "  </thead>\n",
              "  <tbody>\n",
              "    <tr>\n",
              "      <th>1</th>\n",
              "      <td>Polynomial Regression</td>\n",
              "      <td>85.813364</td>\n",
              "      <td>3.848856</td>\n",
              "      <td>2.633199</td>\n",
              "    </tr>\n",
              "    <tr>\n",
              "      <th>0</th>\n",
              "      <td>Linear Regression</td>\n",
              "      <td>71.218184</td>\n",
              "      <td>4.367343</td>\n",
              "      <td>3.859006</td>\n",
              "    </tr>\n",
              "  </tbody>\n",
              "</table>\n",
              "</div>"
            ],
            "text/plain": [
              "                   Model  R-squared Score      RMSE       MAE\n",
              "1  Polynomial Regression        85.813364  3.848856  2.633199\n",
              "0      Linear Regression        71.218184  4.367343  3.859006"
            ]
          },
          "execution_count": 63,
          "metadata": {},
          "output_type": "execute_result"
        }
      ],
      "source": [
        "models = pd.DataFrame({\n",
        "    'Model': ['Linear Regression', 'Polynomial Regression'],\n",
        "    'R-squared Score': [acc_linreg*100, acc_poly*100],\n",
        "    'RMSE': [rmse_lr, rmse_poly],\n",
        "    'MAE': [mae_lr, mae_poly]})\n",
        "models.sort_values(by='R-squared Score', ascending=False)"
      ]
    },
    {
      "cell_type": "markdown",
      "metadata": {
        "id": "aRqHge7_JDng"
      },
      "source": [
        "## **Interpretasi**\n",
        "\n",
        "Jika dilihat dari nilai RMSE dan MAE, terlihat bahwa polynomial regression menghasilkan error yang lebih kecil. Ini berarti, penambahan feature polynomial terhadap model linear regresi dapat meningkatkan performa model. Feature polynomial order 2 lebih dapat menangkap pola persebaran data lebih baik daripada order 1 saja, sehingga output model lebih optimal.<br>\n",
        "***Degree pada polynomial menggambarkan seberapa besar tingkat fleksibilitas model. Semakin tinggi degree-nya, berarti akan semakin banyak pula data poin yang dikenai oleh garis regresi.***\n",
        "\n",
        "Secara kuantitatif, overfitting dan underfitting dapat dievaluasi dengan menggunakan cross-validation.\n",
        "<br>\n",
        "Kita dapat menghitung nilai RMSE pada validation atau test set. Semakin tinggi nilai RMSE-nya, berarti semakin kecil pula kemungkinan model dapat menggeneralisasi data training dengan baik."
      ]
    },
    {
      "cell_type": "markdown",
      "source": [
        "## **Latihan Model Evaluation**<br>\n",
        "### **Gunakan dataset 'Titanic'**\n",
        "\n",
        "**Target: 'alive'**\n",
        "\n",
        "- Skema pre-processing:\n",
        "  * Drop feature 'deck'\n",
        "  * Isi missing value 'age' dengan simple imputer median\n",
        "  * Isi missing value 'embark town' dengan simple imputer modus\n",
        "  * One hot encoding: 'sex', 'embark town', 'alone'\n",
        "  * Ordinal encoding: 'class'\n",
        "  * Scaling dengan RobustScaler()\n",
        "<br><br>\n",
        "- Split data menjadi 80:20 dengan random_state = 0.\n",
        "- Tentukan metric evaluasi yang sesuai untuk kasus Titanic.\n",
        "- Pilih model terbaik dengan cross-validation (n_splits=5):\n",
        "    * Logistic regression: solver = liblinear\n",
        "    * KNN: n_neighbors = 3\n",
        "    * Decision tree: max depth = 3\n",
        "<br>\n",
        "- Interpretasikan hasil metric yang dipilih tersebut.\n"
      ],
      "metadata": {
        "id": "21LWjPZBihV0"
      }
    }
  ],
  "metadata": {
    "interpreter": {
      "hash": "37eb40c3388cfde35488e2d005b0d69ca91ddeff8a429754d4da636d3f888e5e"
    },
    "kernelspec": {
      "display_name": "Python 3.7.6 64-bit ('base': conda)",
      "name": "python3"
    },
    "language_info": {
      "codemirror_mode": {
        "name": "ipython",
        "version": 3
      },
      "file_extension": ".py",
      "mimetype": "text/x-python",
      "name": "python",
      "nbconvert_exporter": "python",
      "pygments_lexer": "ipython3",
      "version": "3.7.6"
    },
    "varInspector": {
      "cols": {
        "lenName": 16,
        "lenType": 16,
        "lenVar": 40
      },
      "kernels_config": {
        "python": {
          "delete_cmd_postfix": "",
          "delete_cmd_prefix": "del ",
          "library": "var_list.py",
          "varRefreshCmd": "print(var_dic_list())"
        },
        "r": {
          "delete_cmd_postfix": ") ",
          "delete_cmd_prefix": "rm(",
          "library": "var_list.r",
          "varRefreshCmd": "cat(var_dic_list()) "
        }
      },
      "types_to_exclude": [
        "module",
        "function",
        "builtin_function_or_method",
        "instance",
        "_Feature"
      ],
      "window_display": false
    },
    "colab": {
      "provenance": [],
      "toc_visible": true
    }
  },
  "nbformat": 4,
  "nbformat_minor": 0
}